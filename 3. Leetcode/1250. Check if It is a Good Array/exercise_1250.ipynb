{
 "cells": [
  {
   "cell_type": "code",
   "execution_count": 1,
   "metadata": {},
   "outputs": [],
   "source": [
    "def gcd(a,b):\n",
    "    if b == 0:\n",
    "        return 1\n",
    "    else:\n",
    "        a,b = b, a % b\n",
    "    return b"
   ]
  },
  {
   "cell_type": "code",
   "execution_count": null,
   "metadata": {},
   "outputs": [
    {
     "data": {
      "text/plain": [
       "5"
      ]
     },
     "execution_count": 25,
     "metadata": {},
     "output_type": "execute_result"
    }
   ],
   "source": [
    "def gcd(a,b):\n",
    "    if a == b:\n",
    "        return b\n",
    "    elif a % b == 0:\n",
    "        return b\n",
    "    elif b % a == 0:\n",
    "        return a\n",
    "    elif a > b:\n",
    "        max, min = a, b\n",
    "    else:\n",
    "        max, min = b, a\n",
    "        \n",
    "    result = 1\n",
    "    while max % min != 0:\n",
    "        result = max % min\n",
    "        max, min = min, max % min\n",
    "        \n",
    "        \n",
    "    return result\n",
    "    "
   ]
  },
  {
   "cell_type": "code",
   "execution_count": null,
   "metadata": {},
   "outputs": [
    {
     "data": {
      "text/plain": [
       "4"
      ]
     },
     "execution_count": 33,
     "metadata": {},
     "output_type": "execute_result"
    }
   ],
   "source": [
    "class Solution:\n",
    "    def gcd(self, a, b):\n",
    "        \"\"\"Calculate the greatest common divisor of a and b using the Euclidean algorithm\"\"\"\n",
    "        while b != 0:\n",
    "            a, b = b, a % b\n",
    "        return a\n",
    "\n",
    "\n",
    "\n",
    "\n",
    "    def isGoodArray(self, nums) -> bool:\n",
    "        u = nums[0]\n",
    "        for i in range(0,len(nums)-1):\n",
    "            u = gcd(u, nums[i+1])\n",
    "    \n",
    "        return u == 1\n",
    "\n",
    "\n",
    "s = Solution()\n",
    "\n",
    "4 % 12"
   ]
  },
  {
   "cell_type": "code",
   "execution_count": 28,
   "metadata": {},
   "outputs": [
    {
     "data": {
      "text/plain": [
       "1"
      ]
     },
     "execution_count": 28,
     "metadata": {},
     "output_type": "execute_result"
    }
   ],
   "source": [
    "nums = [29,6,10]\n",
    "def gcd(a,b):\n",
    "    \"\"\"tìm Ước chung lớn nhất của 2 số a,b\"\"\"\n",
    "    \n",
    "    if a == b:\n",
    "        return b\n",
    "    elif a % b == 0:\n",
    "        return b\n",
    "    elif b % a == 0:\n",
    "        return a\n",
    "    elif a > b:\n",
    "        max, min = a, b\n",
    "    else:\n",
    "        max, min = b, a\n",
    "        \n",
    "    result = 1\n",
    "    while max % min != 0:\n",
    "        result = max % min\n",
    "        max, min = min, max % min\n",
    "        \n",
    "        \n",
    "    return result\n",
    "\n",
    "\n",
    "\n",
    "u = nums[0]\n",
    "for i in range(0,len(nums)-1):\n",
    "    u = gcd(u, nums[i+1])\n",
    "    \n",
    "u"
   ]
  }
 ],
 "metadata": {
  "kernelspec": {
   "display_name": "Python 3",
   "language": "python",
   "name": "python3"
  },
  "language_info": {
   "codemirror_mode": {
    "name": "ipython",
    "version": 3
   },
   "file_extension": ".py",
   "mimetype": "text/x-python",
   "name": "python",
   "nbconvert_exporter": "python",
   "pygments_lexer": "ipython3",
   "version": "3.9.13"
  }
 },
 "nbformat": 4,
 "nbformat_minor": 2
}
