{
 "cells": [
  {
   "cell_type": "code",
   "execution_count": 123,
   "metadata": {},
   "outputs": [
    {
     "data": {
      "text/plain": [
       "'cab'"
      ]
     },
     "execution_count": 123,
     "metadata": {},
     "output_type": "execute_result"
    }
   ],
   "source": [
    "list_let = ['a', 'b', 'c']\n",
    "\n",
    "k = 9\n",
    "newk = k-1\n",
    "n = 3\n",
    "bag = []\n",
    "last_let = None\n",
    "\n",
    "for i in list(range(n-1,0-1,-1)):\n",
    "    \n",
    "    position =  newk // 2**i\n",
    "        \n",
    "    curlet = [i for i in list_let if i != last_let][position]\n",
    "    # print(f'{newk} ---- {position}')\n",
    "    newk = newk % 2**i\n",
    "    \n",
    "    bag.append(curlet)\n",
    "    last_let = curlet\n",
    "    \n",
    "\n",
    "final = \"\"\n",
    "for i in bag:\n",
    "    final += i \n",
    "    \n",
    "final\n",
    "\n",
    "\n",
    "\n"
   ]
  },
  {
   "cell_type": "code",
   "execution_count": 86,
   "metadata": {},
   "outputs": [
    {
     "data": {
      "text/plain": [
       "[0]"
      ]
     },
     "execution_count": 86,
     "metadata": {},
     "output_type": "execute_result"
    }
   ],
   "source": [
    "list(range(n-1,0-1,-1))"
   ]
  },
  {
   "cell_type": "code",
   "execution_count": null,
   "metadata": {},
   "outputs": [
    {
     "data": {
      "text/plain": [
       "1"
      ]
     },
     "execution_count": 40,
     "metadata": {},
     "output_type": "execute_result"
    }
   ],
   "source": [
    "class Solution:\n",
    "    def getHappyString(self, n: int, k: int) -> str:\n",
    "        if k > 3 * 2**(n-1):\n",
    "            return \"\"\n",
    "        \n",
    "        bag = []\n",
    "        last_let = None\n",
    "\n",
    "        for i in list(range(n-1,0-1,-1)):\n",
    "            position = k // 2**i\n",
    "            \n",
    "            if i > 0:\n",
    "                k = k % 2**i\n",
    "            else:\n",
    "                position = k % 2**i\n",
    "            \n",
    "            curlet = [i for i in list_let if i != last_let][position]\n",
    "            bag.append(curlet)\n",
    "            last_let = curlet\n",
    "            \n",
    "\n",
    "        final = \"\"\n",
    "        for i in bag:\n",
    "            final += i \n",
    "    \n",
    "        return final\n",
    "            \n"
   ]
  },
  {
   "cell_type": "code",
   "execution_count": 93,
   "metadata": {},
   "outputs": [
    {
     "data": {
      "text/plain": [
       "1"
      ]
     },
     "execution_count": 93,
     "metadata": {},
     "output_type": "execute_result"
    }
   ],
   "source": [
    "4 // 4"
   ]
  }
 ],
 "metadata": {
  "kernelspec": {
   "display_name": "base",
   "language": "python",
   "name": "python3"
  },
  "language_info": {
   "codemirror_mode": {
    "name": "ipython",
    "version": 3
   },
   "file_extension": ".py",
   "mimetype": "text/x-python",
   "name": "python",
   "nbconvert_exporter": "python",
   "pygments_lexer": "ipython3",
   "version": "3.12.3"
  }
 },
 "nbformat": 4,
 "nbformat_minor": 2
}
