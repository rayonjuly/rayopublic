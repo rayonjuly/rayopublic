{
 "cells": [
  {
   "cell_type": "code",
   "execution_count": 12,
   "id": "ac15d0c2",
   "metadata": {},
   "outputs": [
    {
     "name": "stdout",
     "output_type": "stream",
     "text": [
      "1 0 0 0\n"
     ]
    }
   ],
   "source": [
    "# nums = [-2,1,-3,4,-1,2,1,-5,4]\n",
    "# nums = [1,-1,-1,8,-1,-1]\n",
    "nums = [1,-1]\n",
    "\n",
    "max = 0\n",
    "min = 0\n",
    "sum_nums = 0\n",
    "curr_min = 0\n",
    "curr_max = 0\n",
    "for i in range(len(nums)):\n",
    "    sum_nums += nums[i]\n",
    "    if sum_nums > max:\n",
    "        max = sum_nums\n",
    "        curr_max = i\n",
    "\n",
    "sum_nums = 0\n",
    "for i in range(curr_max):\n",
    "    sum_nums += nums[i]\n",
    "    if sum_nums < min:\n",
    "        min = sum_nums\n",
    "        curr_min = i\n",
    "        \n",
    "print(max, curr_max, min, curr_min)"
   ]
  },
  {
   "cell_type": "code",
   "execution_count": 72,
   "id": "84a1cd41",
   "metadata": {},
   "outputs": [
    {
     "name": "stdout",
     "output_type": "stream",
     "text": [
      "3 0\n"
     ]
    },
    {
     "data": {
      "text/plain": [
       "3"
      ]
     },
     "execution_count": 72,
     "metadata": {},
     "output_type": "execute_result"
    }
   ],
   "source": [
    "class Solution:\n",
    "    def starting_positive(self, nums):\n",
    "        starting_positive_index = None\n",
    "        max_neg = None\n",
    "        for i in range(len(nums)):\n",
    "            if nums[i] <= 0:\n",
    "                if i == 0:\n",
    "                    max_neg = nums[i]\n",
    "                else:\n",
    "                    if nums[i] > max_neg:\n",
    "                        max_neg = nums[i]\n",
    "            if nums[i] > 0:\n",
    "                starting_positive_index = i\n",
    "                break\n",
    "        if starting_positive_index == None:\n",
    "            return {'max_neg': max_neg, 'starting_positive_index': starting_positive_index, 'positive_subarray': []}\n",
    "        else:\n",
    "            return {'max_neg': max_neg, 'starting_positive_index': starting_positive_index, 'positive_subarray': nums[starting_positive_index:]}\n",
    "        \n",
    "    def maxSubArray(self, nums):\n",
    "        a = self.starting_positive(nums)\n",
    "        if a['starting_positive_index'] == None:\n",
    "            return a['max_neg']\n",
    "        else:\n",
    "            positive = a['positive_subarray']\n",
    "            \n",
    "            # max = 0\n",
    "            min = 0\n",
    "            s = 0 # tính tổng cộng dồn nums[:i]\n",
    "            curr_min = 0\n",
    "            curr_max = 0\n",
    "            for i in range(len(positive)):\n",
    "                s += positive[i]\n",
    "                if i == 0:\n",
    "                    max = s\n",
    "                else:\n",
    "                    if s >= max:\n",
    "                        # print(s, positive[i])\n",
    "                        max = s\n",
    "                        curr_max = i\n",
    "                    \n",
    "            print(max, curr_max)\n",
    "\n",
    "            s = 0\n",
    "            for i in range(curr_max):\n",
    "                s += positive[i]\n",
    "                if s < min:\n",
    "                    min = s\n",
    "                    curr_min = i\n",
    "                    \n",
    "            # print(min, curr_min)\n",
    "            return max - min\n",
    "        \n",
    "    \n",
    "    \n",
    "# nums = [-2,1,-3,4,-1,2,1,-5,4]\n",
    "# nums = [5,4,-1,7,8]\n",
    "# nums = [1,-1] \n",
    "nums = [3,-2,-3,-3,1,3,0]\n",
    "s = Solution()\n",
    "s.maxSubArray(nums)\n",
    "# s.starting_positive(nums)"
   ]
  },
  {
   "cell_type": "code",
   "execution_count": null,
   "id": "a199c9fe",
   "metadata": {},
   "outputs": [
    {
     "ename": "TypeError",
     "evalue": "unsupported operand type(s) for +: 'NoneType' and 'int'",
     "output_type": "error",
     "traceback": [
      "\u001b[1;31m---------------------------------------------------------------------------\u001b[0m",
      "\u001b[1;31mTypeError\u001b[0m                                 Traceback (most recent call last)",
      "Cell \u001b[1;32mIn[22], line 1\u001b[0m\n\u001b[1;32m----> 1\u001b[0m \u001b[38;5;28;43;01mNone\u001b[39;49;00m\u001b[43m \u001b[49m\u001b[38;5;241;43m+\u001b[39;49m\u001b[43m \u001b[49m\u001b[38;5;241;43m3\u001b[39;49m\n",
      "\u001b[1;31mTypeError\u001b[0m: unsupported operand type(s) for +: 'NoneType' and 'int'"
     ]
    }
   ],
   "source": [
    "nums = [-2,-1, 0]\n",
    "max_sum = 0\n",
    "\n",
    "curr_max = 0\n",
    "\n",
    "if nums[i] < 0:\n",
    "    max_neg = nums[i]\n",
    "else:\n",
    "    max_neg = 0\n",
    "    \n",
    "starting_positive = \n",
    "    \n",
    "for i in range(len(nums)):\n",
    "    if nums[i] < 0:\n",
    "        if nums[i] > max_neg:\n",
    "            max_neg = nums[i]\n",
    "    else:\n",
    "        starting_positive = i\n",
    "    "
   ]
  },
  {
   "cell_type": "code",
   "execution_count": 39,
   "id": "b3857c74",
   "metadata": {},
   "outputs": [
    {
     "data": {
      "text/plain": [
       "3"
      ]
     },
     "execution_count": 39,
     "metadata": {},
     "output_type": "execute_result"
    }
   ],
   "source": [
    "{'A':3}['A']"
   ]
  }
 ],
 "metadata": {
  "kernelspec": {
   "display_name": "base",
   "language": "python",
   "name": "python3"
  },
  "language_info": {
   "codemirror_mode": {
    "name": "ipython",
    "version": 3
   },
   "file_extension": ".py",
   "mimetype": "text/x-python",
   "name": "python",
   "nbconvert_exporter": "python",
   "pygments_lexer": "ipython3",
   "version": "3.12.3"
  }
 },
 "nbformat": 4,
 "nbformat_minor": 5
}
