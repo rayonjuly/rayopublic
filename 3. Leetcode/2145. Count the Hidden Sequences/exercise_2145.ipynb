{
 "cells": [
  {
   "cell_type": "code",
   "execution_count": 28,
   "id": "df7e62ce",
   "metadata": {},
   "outputs": [
    {
     "data": {
      "text/plain": [
       "83702"
      ]
     },
     "execution_count": 28,
     "metadata": {},
     "output_type": "execute_result"
    }
   ],
   "source": [
    "class Solution:\n",
    "    def max_diff(self, diff):\n",
    "        if len(diff) == 1:\n",
    "            return abs(diff[0])\n",
    "        else:\n",
    "            hidden = [0]\n",
    "            for i in range(len(diff)):\n",
    "                hidden.append(hidden[-1] + diff[i])\n",
    "                \n",
    "            return max(hidden) - min(hidden)\n",
    "            \n",
    "    def numberOfArrays(self, differences, lower: int, upper: int) -> int:\n",
    "        max_diff = self.max_diff(diff = differences)\n",
    "        result = upper - lower - max_diff + 1\n",
    "        \n",
    "        return max(result, 0)\n",
    "    \n",
    "s = Solution()\n",
    "# s.numberOfArrays(differences = [3,-4,5,1,-2], lower = -4, upper = 5)\n",
    "s.max_diff(diff=[83702,-5216])"
   ]
  },
  {
   "cell_type": "code",
   "execution_count": 21,
   "id": "21cab050",
   "metadata": {},
   "outputs": [
    {
     "data": {
      "text/plain": [
       "([0, 83702, 78486], 83702)"
      ]
     },
     "execution_count": 21,
     "metadata": {},
     "output_type": "execute_result"
    }
   ],
   "source": [
    "\n",
    "def max_diff(diff):\n",
    "    if len(diff) == 1:\n",
    "        return abs(diff[0])\n",
    "    else:\n",
    "        result = [0]\n",
    "        for i in range(0, len(diff)):\n",
    "            result.append(result[-1] + diff[i])\n",
    "            \n",
    "        return result, max(result) - min(result)\n",
    "\n",
    "max_diff(diff = [83702,-5216])"
   ]
  },
  {
   "cell_type": "code",
   "execution_count": 14,
   "id": "df705396",
   "metadata": {},
   "outputs": [
    {
     "data": {
      "text/plain": [
       "1"
      ]
     },
     "execution_count": 14,
     "metadata": {},
     "output_type": "execute_result"
    }
   ],
   "source": [
    "abs(-1)"
   ]
  }
 ],
 "metadata": {
  "kernelspec": {
   "display_name": "base",
   "language": "python",
   "name": "python3"
  },
  "language_info": {
   "codemirror_mode": {
    "name": "ipython",
    "version": 3
   },
   "file_extension": ".py",
   "mimetype": "text/x-python",
   "name": "python",
   "nbconvert_exporter": "python",
   "pygments_lexer": "ipython3",
   "version": "3.12.3"
  }
 },
 "nbformat": 4,
 "nbformat_minor": 5
}
