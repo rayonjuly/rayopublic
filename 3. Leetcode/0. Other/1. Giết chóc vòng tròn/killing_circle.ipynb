{
 "cells": [
  {
   "cell_type": "code",
   "execution_count": 5,
   "id": "e01a70b6",
   "metadata": {},
   "outputs": [
    {
     "data": {
      "text/plain": [
       "[1, 2, 3, 4, 5, 6, 7]"
      ]
     },
     "execution_count": 5,
     "metadata": {},
     "output_type": "execute_result"
    }
   ],
   "source": [
    "nums = list(range(1,7+1))\n",
    "nums"
   ]
  },
  {
   "cell_type": "code",
   "execution_count": null,
   "id": "53b53105",
   "metadata": {},
   "outputs": [],
   "source": [
    "\n",
    "class Solution:\n",
    "    def killing_circle(n):\n",
    "        nums = list(range(1,n+1)) \n",
    "        \n",
    "        while len(nums) > 1:\n",
    "            current = nums[0]\n",
    "            nums = nums[2:]\n",
    "            nums.append(current)\n",
    "            \n",
    "        return nums[0]\n",
    "    \n",
    "    \n",
    "s = Solution\n",
    "s.killing_circle(1000000)\n",
    "#     nums.append(current)\n",
    "    \n",
    "# print(nums)\n",
    "\n",
    "    \n"
   ]
  },
  {
   "cell_type": "code",
   "execution_count": null,
   "id": "27d6cea7",
   "metadata": {},
   "outputs": [],
   "source": [
    "def f(n):\n",
    "    alive = [True] * n\n",
    "    count_dead = 0\n",
    "    i = 1 \n",
    "    f = 1\n",
    "    curr = 0\n",
    "    while count_dead < n-1:\n",
    "        if i >= n:\n",
    "            i = 0\n",
    "\n",
    "        if f == 1:\n",
    "            if alive[i]:\n",
    "                alive[i] = False \n",
    "                f = 0 \n",
    "                print(curr+1, \" X \", i+1)\n",
    "                count_dead += 1\n",
    "            else:\n",
    "                i += 1\n",
    "                continue \n",
    "        \n",
    "        else:\n",
    "            if alive[i]:\n",
    "                curr = i \n",
    "                f = 1 \n",
    "                i += 1\n",
    "                continue\n",
    "            else:\n",
    "                i += 1 \n",
    "                continue \n",
    "    \n",
    "    print(curr+1)"
   ]
  },
  {
   "cell_type": "code",
   "execution_count": 13,
   "id": "3bcda7e9",
   "metadata": {},
   "outputs": [
    {
     "name": "stdout",
     "output_type": "stream",
     "text": [
      "2\n"
     ]
    }
   ],
   "source": [
    "n = 5\n",
    "# nums = list(range(1,n+1)) \n",
    "count_dead = 0\n",
    "f = 1\n",
    "i = 1\n",
    "alive = [True] * n\n",
    "curr = 0\n",
    "\n",
    "while count_dead < n - 1:\n",
    "    if i >= n:\n",
    "        i = 0\n",
    "    if f == 1:\n",
    "        if alive[i]:\n",
    "            alive[i] = False\n",
    "            f = 0\n",
    "            count_dead += 1\n",
    "        else:\n",
    "            i += 1\n",
    "            continue\n",
    "    \n",
    "    else:\n",
    "        if alive[i]:\n",
    "            curr = i\n",
    "            f = 1\n",
    "            i += 1\n",
    "        else:\n",
    "            i += 1\n",
    "            continue\n",
    "\n",
    "# print(alive)\n",
    "print(curr)"
   ]
  }
 ],
 "metadata": {
  "kernelspec": {
   "display_name": "base",
   "language": "python",
   "name": "python3"
  },
  "language_info": {
   "codemirror_mode": {
    "name": "ipython",
    "version": 3
   },
   "file_extension": ".py",
   "mimetype": "text/x-python",
   "name": "python",
   "nbconvert_exporter": "python",
   "pygments_lexer": "ipython3",
   "version": "3.12.3"
  }
 },
 "nbformat": 4,
 "nbformat_minor": 5
}
