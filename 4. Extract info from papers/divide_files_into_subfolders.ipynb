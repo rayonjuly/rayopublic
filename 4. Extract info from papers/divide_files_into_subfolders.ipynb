{
 "cells": [
  {
   "cell_type": "code",
   "execution_count": 1,
   "id": "e86d9c98",
   "metadata": {},
   "outputs": [],
   "source": [
    "import os\n",
    "import shutil\n",
    "import pandas as pd\n",
    "import numpy as np"
   ]
  },
  {
   "cell_type": "code",
   "execution_count": null,
   "id": "b369ed75",
   "metadata": {},
   "outputs": [],
   "source": [
    "start_folder = r'D:\\5. Minh và Hương\\3. Temp - Tài liệu luận văn chị Lương\\Vietnamese\\Vietnamese'\n",
    "all_files = []\n",
    "for dirpath, dirnames, filenames in os.walk(start_folder):\n",
    "    # print(f'dirpath ---> {dirpath}')\n",
    "    # print(f'dirnames ---> {dirnames}')\n",
    "    # print(f'filesnames ---> {filenames}')\n",
    "    for file in filenames:\n",
    "        full_path = dirpath + '\\\\' + file\n",
    "        all_files.append(full_path)\n"
   ]
  },
  {
   "cell_type": "code",
   "execution_count": 14,
   "id": "fbf0adb1",
   "metadata": {},
   "outputs": [
    {
     "data": {
      "text/plain": [
       "'D:\\\\5. Minh và Hương\\\\3. Temp - Tài liệu luận văn chị Lương\\\\Vietnamese\\\\Vietnamese_2_divided_into_folders\\\\1. ORC Bàn về QH.pdf'"
      ]
     },
     "execution_count": 14,
     "metadata": {},
     "output_type": "execute_result"
    }
   ],
   "source": [
    "source_file_path = all_files[0]\n",
    "destination = r'D:\\5. Minh và Hương\\3. Temp - Tài liệu luận văn chị Lương\\Vietnamese\\Vietnamese_2_divided_into_folders'\n",
    "\n",
    "shutil.copy(source_file_path, destination)"
   ]
  },
  {
   "cell_type": "code",
   "execution_count": 21,
   "id": "656c21c9",
   "metadata": {},
   "outputs": [
    {
     "ename": "IndexError",
     "evalue": "list index out of range",
     "output_type": "error",
     "traceback": [
      "\u001b[1;31m---------------------------------------------------------------------------\u001b[0m",
      "\u001b[1;31mIndexError\u001b[0m                                Traceback (most recent call last)",
      "Cell \u001b[1;32mIn [21], line 25\u001b[0m\n\u001b[0;32m     22\u001b[0m     os\u001b[38;5;241m.\u001b[39mmakedirs(destination_subfolder_path)\n\u001b[0;32m     24\u001b[0m \u001b[38;5;28;01mfor\u001b[39;00m j \u001b[38;5;129;01min\u001b[39;00m \u001b[38;5;28mrange\u001b[39m(\u001b[38;5;241m10\u001b[39m\u001b[38;5;241m*\u001b[39mi, \u001b[38;5;241m10\u001b[39m\u001b[38;5;241m*\u001b[39m(i\u001b[38;5;241m+\u001b[39m\u001b[38;5;241m1\u001b[39m)):\n\u001b[1;32m---> 25\u001b[0m     source_file_path \u001b[38;5;241m=\u001b[39m \u001b[43mall_files\u001b[49m\u001b[43m[\u001b[49m\u001b[43mj\u001b[49m\u001b[43m]\u001b[49m\n\u001b[0;32m     26\u001b[0m     \u001b[38;5;28;01mtry\u001b[39;00m:\n\u001b[0;32m     27\u001b[0m         shutil\u001b[38;5;241m.\u001b[39mmove(source_file_path, destination_subfolder_path)\n",
      "\u001b[1;31mIndexError\u001b[0m: list index out of range"
     ]
    }
   ],
   "source": [
    "# folder = r'D:\\5. Minh và Hương\\3. Temp - Tài liệu luận văn chị Lương\\Vietnamese\\Vietnamese_2_divided_into_folders'\n",
    "\n",
    "\n",
    "# list all the paper files in the original folder\n",
    "start_folder = r'D:\\5. Minh và Hương\\3. Temp - Tài liệu luận văn chị Lương\\French - Copy\\file pdf làm phụ lục Luật Pháp'\n",
    "all_files = []\n",
    "for dirpath, dirnames, filenames in os.walk(start_folder):\n",
    "    for file in filenames:\n",
    "        full_path = dirpath + '\\\\' + file\n",
    "        all_files.append(full_path)\n",
    "\n",
    "num_of_subfolders = len(all_files) // 10 + 1\n",
    "\n",
    "# create subfolders then divide the papers into subfolders, 10 papers each subfolder\n",
    "destination_folder_name = r'D:\\5. Minh và Hương\\3. Temp - Tài liệu luận văn chị Lương\\French\\French_2_divided_into_folders'\n",
    "\n",
    "for i in range(num_of_subfolders):\n",
    "    destination_subfolder_name = f'subfolder_{i}'\n",
    "    destination_subfolder_path = os.path.join(destination_folder_name, destination_subfolder_name)\n",
    "\n",
    "    if not os.path.exists(destination_subfolder_path):\n",
    "        os.makedirs(destination_subfolder_path)\n",
    "\n",
    "    for j in range(10*i, 10*(i+1)):\n",
    "        source_file_path = all_files[j]\n",
    "        try:\n",
    "            shutil.move(source_file_path, destination_subfolder_path)\n",
    "        except shutil.Error as e:\n",
    "            print(f\"Error moving file: {e}\")\n",
    "        except Exception as e:\n",
    "            print(f\"An unexpected error occurred: {e}\")\n",
    "    \n",
    "    # divided.append(all_files[5 * i : 5*(i+1)])\n",
    "\n",
    "# divided[0]"
   ]
  },
  {
   "cell_type": "code",
   "execution_count": 19,
   "id": "5d8aef2e",
   "metadata": {},
   "outputs": [
    {
     "data": {
      "text/plain": [
       "'D:\\\\5. Minh và Hương\\\\3. Temp - Tài liệu luận văn chị Lương\\\\Vietnamese\\\\Vietnamese_2_divided_into_folders\\\\BVCG_ĐinhPhuongAnh_UyquyenlapphaptaiConghoalienbangDuc_2024_TVQH.pdf'"
      ]
     },
     "execution_count": 19,
     "metadata": {},
     "output_type": "execute_result"
    }
   ],
   "source": [
    "error_source_file_path = r'D:\\5. Minh và Hương\\3. Temp - Tài liệu luận văn chị Lương\\Vietnamese\\Vietnamese_0_Original\\Tài liệu TVQH năm 2025. loc 17.6.25\\BVCG_ĐinhPhuongAnh_UyquyenlapphaptaiConghoalienbangDuc_2024_TVQH.pdf'\n",
    "shutil.copy(error_source_file_path, r'D:\\5. Minh và Hương\\3. Temp - Tài liệu luận văn chị Lương\\Vietnamese\\Vietnamese_2_divided_into_folders')"
   ]
  },
  {
   "cell_type": "markdown",
   "id": "b86ea5ea",
   "metadata": {},
   "source": [
    "# Clean the destination folder"
   ]
  },
  {
   "cell_type": "markdown",
   "id": "b15b0649",
   "metadata": {},
   "source": [
    "# Rerun"
   ]
  },
  {
   "cell_type": "code",
   "execution_count": 9,
   "id": "e3b1f492",
   "metadata": {},
   "outputs": [
    {
     "data": {
      "text/html": [
       "<div>\n",
       "<style scoped>\n",
       "    .dataframe tbody tr th:only-of-type {\n",
       "        vertical-align: middle;\n",
       "    }\n",
       "\n",
       "    .dataframe tbody tr th {\n",
       "        vertical-align: top;\n",
       "    }\n",
       "\n",
       "    .dataframe thead th {\n",
       "        text-align: right;\n",
       "    }\n",
       "</style>\n",
       "<table border=\"1\" class=\"dataframe\">\n",
       "  <thead>\n",
       "    <tr style=\"text-align: right;\">\n",
       "      <th></th>\n",
       "      <th>file_name</th>\n",
       "    </tr>\n",
       "  </thead>\n",
       "  <tbody>\n",
       "    <tr>\n",
       "      <th>0</th>\n",
       "      <td>subfolder_19\\39.180.Quoc-hoi-chuyen-nghiep-va-...</td>\n",
       "    </tr>\n",
       "    <tr>\n",
       "      <th>1</th>\n",
       "      <td>subfolder_19\\39.180.Quoc-hoi-chuyen-nghiep-va-...</td>\n",
       "    </tr>\n",
       "    <tr>\n",
       "      <th>2</th>\n",
       "      <td>subfolder_31\\39.9. VEVIECNANGCAOCHATLUONGduanl...</td>\n",
       "    </tr>\n",
       "    <tr>\n",
       "      <th>3</th>\n",
       "      <td>subfolder_31\\39.91. CDky10_Hoatdonggiamsat Ngh...</td>\n",
       "    </tr>\n",
       "    <tr>\n",
       "      <th>4</th>\n",
       "      <td>subfolder_31\\39.91. CDky10_Hoatdonggiamsat Ngh...</td>\n",
       "    </tr>\n",
       "    <tr>\n",
       "      <th>5</th>\n",
       "      <td>subfolder_33\\43. Đề tài. Đào tạo Đội ngũ giúp ...</td>\n",
       "    </tr>\n",
       "    <tr>\n",
       "      <th>6</th>\n",
       "      <td>subfolder_33\\5. QuytrinhthutucQH_banthao_12091...</td>\n",
       "    </tr>\n",
       "    <tr>\n",
       "      <th>7</th>\n",
       "      <td>subfolder_33\\52.Bao cao tong hop_co che ho tro...</td>\n",
       "    </tr>\n",
       "    <tr>\n",
       "      <th>8</th>\n",
       "      <td>subfolder_34\\55. Ban ve lap hien.doc</td>\n",
       "    </tr>\n",
       "    <tr>\n",
       "      <th>9</th>\n",
       "      <td>subfolder_34\\57. Quoc hoi Viet Nam va cac thie...</td>\n",
       "    </tr>\n",
       "    <tr>\n",
       "      <th>10</th>\n",
       "      <td>subfolder_34\\58_TIEPTHUKINHNGHIEM_pháp điển ho...</td>\n",
       "    </tr>\n",
       "    <tr>\n",
       "      <th>11</th>\n",
       "      <td>subfolder_34\\58_TIEPTHUKINHNGHIEM_pháp điển ho...</td>\n",
       "    </tr>\n",
       "    <tr>\n",
       "      <th>12</th>\n",
       "      <td>subfolder_34\\62. VPQH hỗ trợ Đại Biểu QH.pdf</td>\n",
       "    </tr>\n",
       "    <tr>\n",
       "      <th>13</th>\n",
       "      <td>subfolder_34\\63. ORC QHVN 60 nam hinh thanh va...</td>\n",
       "    </tr>\n",
       "    <tr>\n",
       "      <th>14</th>\n",
       "      <td>subfolder_34\\63. QHVN 60 nam hinh thanh va pha...</td>\n",
       "    </tr>\n",
       "    <tr>\n",
       "      <th>15</th>\n",
       "      <td>subfolder_34\\64. Quốc hội và doanh nghiệp.pdf</td>\n",
       "    </tr>\n",
       "    <tr>\n",
       "      <th>16</th>\n",
       "      <td>subfolder_35\\66-QuychevetochucvahoatdongcuaHoi...</td>\n",
       "    </tr>\n",
       "    <tr>\n",
       "      <th>17</th>\n",
       "      <td>subfolder_35\\66-QuychevetochucvahoatdongcuaHoi...</td>\n",
       "    </tr>\n",
       "    <tr>\n",
       "      <th>18</th>\n",
       "      <td>subfolder_35\\66.Bosungtieuchicuthebophieutinnh...</td>\n",
       "    </tr>\n",
       "    <tr>\n",
       "      <th>19</th>\n",
       "      <td>subfolder_35\\67-Quychevetochucvahoatdongcuacac...</td>\n",
       "    </tr>\n",
       "  </tbody>\n",
       "</table>\n",
       "</div>"
      ],
      "text/plain": [
       "                                            file_name\n",
       "0   subfolder_19\\39.180.Quoc-hoi-chuyen-nghiep-va-...\n",
       "1   subfolder_19\\39.180.Quoc-hoi-chuyen-nghiep-va-...\n",
       "2   subfolder_31\\39.9. VEVIECNANGCAOCHATLUONGduanl...\n",
       "3   subfolder_31\\39.91. CDky10_Hoatdonggiamsat Ngh...\n",
       "4   subfolder_31\\39.91. CDky10_Hoatdonggiamsat Ngh...\n",
       "5   subfolder_33\\43. Đề tài. Đào tạo Đội ngũ giúp ...\n",
       "6   subfolder_33\\5. QuytrinhthutucQH_banthao_12091...\n",
       "7   subfolder_33\\52.Bao cao tong hop_co che ho tro...\n",
       "8                subfolder_34\\55. Ban ve lap hien.doc\n",
       "9   subfolder_34\\57. Quoc hoi Viet Nam va cac thie...\n",
       "10  subfolder_34\\58_TIEPTHUKINHNGHIEM_pháp điển ho...\n",
       "11  subfolder_34\\58_TIEPTHUKINHNGHIEM_pháp điển ho...\n",
       "12       subfolder_34\\62. VPQH hỗ trợ Đại Biểu QH.pdf\n",
       "13  subfolder_34\\63. ORC QHVN 60 nam hinh thanh va...\n",
       "14  subfolder_34\\63. QHVN 60 nam hinh thanh va pha...\n",
       "15      subfolder_34\\64. Quốc hội và doanh nghiệp.pdf\n",
       "16  subfolder_35\\66-QuychevetochucvahoatdongcuaHoi...\n",
       "17  subfolder_35\\66-QuychevetochucvahoatdongcuaHoi...\n",
       "18  subfolder_35\\66.Bosungtieuchicuthebophieutinnh...\n",
       "19  subfolder_35\\67-Quychevetochucvahoatdongcuacac..."
      ]
     },
     "execution_count": 9,
     "metadata": {},
     "output_type": "execute_result"
    }
   ],
   "source": [
    "rerun = pd.read_excel(r'D:\\5. Minh và Hương\\3. Temp - Tài liệu luận văn chị Lương\\Vietnamese\\Vietnamese_rerun\\rerun.xlsx')\n",
    "rerun.head(20)"
   ]
  },
  {
   "cell_type": "markdown",
   "id": "bf320444",
   "metadata": {},
   "source": [
    "Copy the rerun files into Vietnamese_rerun"
   ]
  },
  {
   "cell_type": "code",
   "execution_count": 14,
   "id": "aa9e65f2",
   "metadata": {},
   "outputs": [
    {
     "name": "stdout",
     "output_type": "stream",
     "text": [
      "An unexpected error occurred: [Errno 2] No such file or directory: 'D:\\\\5. Minh và Hương\\\\3. Temp - Tài liệu luận văn chị Lương\\\\Vietnamese\\\\Vietnamese_2_divided_into_folders\\\\subfolder_54\\\\66.Bosungtieuchiecubophieutinnhiem.pdf'\n",
      "An unexpected error occurred: [Errno 2] No such file or directory: 'D:\\\\5. Minh và Hương\\\\3. Temp - Tài liệu luận văn chị Lương\\\\Vietnamese\\\\Vietnamese_2_divided_into_folders\\\\subfolder_63\\\\NCLP722_Quyentiepcanthongtin-tronghoatdonglapphap.pdf'\n"
     ]
    },
    {
     "ename": "IndexError",
     "evalue": "list index out of range",
     "output_type": "error",
     "traceback": [
      "\u001b[1;31m---------------------------------------------------------------------------\u001b[0m",
      "\u001b[1;31mIndexError\u001b[0m                                Traceback (most recent call last)",
      "Cell \u001b[1;32mIn [14], line 25\u001b[0m\n\u001b[0;32m     23\u001b[0m     os\u001b[38;5;241m.\u001b[39mmakedirs(destination_subfolder_path)\n\u001b[0;32m     24\u001b[0m \u001b[38;5;28;01mfor\u001b[39;00m j \u001b[38;5;129;01min\u001b[39;00m \u001b[38;5;28mrange\u001b[39m(\u001b[38;5;241m10\u001b[39m\u001b[38;5;241m*\u001b[39mi, \u001b[38;5;241m10\u001b[39m\u001b[38;5;241m*\u001b[39m(i\u001b[38;5;241m+\u001b[39m\u001b[38;5;241m1\u001b[39m)):\n\u001b[1;32m---> 25\u001b[0m     source_file_path \u001b[38;5;241m=\u001b[39m \u001b[43mall_files\u001b[49m\u001b[43m[\u001b[49m\u001b[43mj\u001b[49m\u001b[43m]\u001b[49m\n\u001b[0;32m     26\u001b[0m     \u001b[38;5;28;01mtry\u001b[39;00m:\n\u001b[0;32m     27\u001b[0m         shutil\u001b[38;5;241m.\u001b[39mcopy(source_file_path, destination_subfolder_path)\n",
      "\u001b[1;31mIndexError\u001b[0m: list index out of range"
     ]
    }
   ],
   "source": [
    "start_folder = r'D:\\5. Minh và Hương\\3. Temp - Tài liệu luận văn chị Lương\\Vietnamese\\Vietnamese_2_divided_into_folders'\n",
    "all_files = []\n",
    "for i in rerun.file_name:\n",
    "    all_files.append(start_folder + '\\\\' + i)\n",
    "\n",
    "all_files\n",
    "# for dirpath, dirnames, filenames in os.walk(start_folder):\n",
    "#     for file in filenames:\n",
    "#         full_path = dirpath + '\\\\' + file\n",
    "#         all_files.append(full_path)\n",
    "\n",
    "all_files\n",
    "num_of_subfolders = len(all_files) // 10 + 1\n",
    "\n",
    "# # create subfolders then divide the papers into subfolders, 10 papers each subfolder\n",
    "destination_folder_name = r'D:\\5. Minh và Hương\\3. Temp - Tài liệu luận văn chị Lương\\Vietnamese\\Vietnamese_rerun'\n",
    "\n",
    "for i in range(num_of_subfolders):\n",
    "    destination_subfolder_name = f'subfolder_{i}'\n",
    "    destination_subfolder_path = os.path.join(destination_folder_name, destination_subfolder_name)\n",
    "\n",
    "    if not os.path.exists(destination_subfolder_path):\n",
    "        os.makedirs(destination_subfolder_path)\n",
    "    for j in range(10*i, 10*(i+1)):\n",
    "        source_file_path = all_files[j]\n",
    "        try:\n",
    "            shutil.copy(source_file_path, destination_subfolder_path)\n",
    "        except shutil.Error as e:\n",
    "            print(f\"Error moving file: {e}\")\n",
    "        except Exception as e:\n",
    "            print(f\"An unexpected error occurred: {e}\")"
   ]
  },
  {
   "cell_type": "code",
   "execution_count": 10,
   "id": "ae191a42",
   "metadata": {},
   "outputs": [
    {
     "data": {
      "text/plain": [
       "['D:\\\\5. Minh và Hương\\\\3. Temp - Tài liệu luận văn chị Lương\\\\Vietnamese\\\\Vietnamese_2_divided_into_folders\\\\subfolder_19\\\\39.180.Quoc-hoi-chuyen-nghiep-va-to-chuc-mot-ky-hop-chuyen-nghiep-phan-ii-ppsx.docx',\n",
       " 'D:\\\\5. Minh và Hương\\\\3. Temp - Tài liệu luận văn chị Lương\\\\Vietnamese\\\\Vietnamese_2_divided_into_folders\\\\subfolder_19\\\\39.180.Quoc-hoi-chuyen-nghiep-va-to-chuc-mot-ky-hop-chuyen-nghiep-phan-ii-ppsx.pdf',\n",
       " 'D:\\\\5. Minh và Hương\\\\3. Temp - Tài liệu luận văn chị Lương\\\\Vietnamese\\\\Vietnamese_2_divided_into_folders\\\\subfolder_31\\\\39.9. VEVIECNANGCAOCHATLUONGduanluat_TC_SO3_2003.pdf',\n",
       " 'D:\\\\5. Minh và Hương\\\\3. Temp - Tài liệu luận văn chị Lương\\\\Vietnamese\\\\Vietnamese_2_divided_into_folders\\\\subfolder_31\\\\39.91. CDky10_Hoatdonggiamsat Nghị viện các nước trên TG.docx',\n",
       " 'D:\\\\5. Minh và Hương\\\\3. Temp - Tài liệu luận văn chị Lương\\\\Vietnamese\\\\Vietnamese_2_divided_into_folders\\\\subfolder_31\\\\39.91. CDky10_Hoatdonggiamsat Nghị viện các nước trên TG.pdf',\n",
       " 'D:\\\\5. Minh và Hương\\\\3. Temp - Tài liệu luận văn chị Lương\\\\Vietnamese\\\\Vietnamese_2_divided_into_folders\\\\subfolder_33\\\\43. Đề tài. Đào tạo Đội ngũ giúp việc cơ quan dân cử.pdf',\n",
       " 'D:\\\\5. Minh và Hương\\\\3. Temp - Tài liệu luận văn chị Lương\\\\Vietnamese\\\\Vietnamese_2_divided_into_folders\\\\subfolder_33\\\\5. QuytrinhthutucQH_banthao_120913.doc',\n",
       " 'D:\\\\5. Minh và Hương\\\\3. Temp - Tài liệu luận văn chị Lương\\\\Vietnamese\\\\Vietnamese_2_divided_into_folders\\\\subfolder_33\\\\52.Bao cao tong hop_co che ho tro DBQH _V 4.0.docx',\n",
       " 'D:\\\\5. Minh và Hương\\\\3. Temp - Tài liệu luận văn chị Lương\\\\Vietnamese\\\\Vietnamese_2_divided_into_folders\\\\subfolder_34\\\\55. Ban ve lap hien.doc',\n",
       " 'D:\\\\5. Minh và Hương\\\\3. Temp - Tài liệu luận văn chị Lương\\\\Vietnamese\\\\Vietnamese_2_divided_into_folders\\\\subfolder_34\\\\57. Quoc hoi Viet Nam va cac thiet che.doc',\n",
       " 'D:\\\\5. Minh và Hương\\\\3. Temp - Tài liệu luận văn chị Lương\\\\Vietnamese\\\\Vietnamese_2_divided_into_folders\\\\subfolder_34\\\\58_TIEPTHUKINHNGHIEM_pháp điển hoá Án lệSO20_2014.docx',\n",
       " 'D:\\\\5. Minh và Hương\\\\3. Temp - Tài liệu luận văn chị Lương\\\\Vietnamese\\\\Vietnamese_2_divided_into_folders\\\\subfolder_34\\\\58_TIEPTHUKINHNGHIEM_pháp điển hoá Án lệSO20_2014.pdf',\n",
       " 'D:\\\\5. Minh và Hương\\\\3. Temp - Tài liệu luận văn chị Lương\\\\Vietnamese\\\\Vietnamese_2_divided_into_folders\\\\subfolder_34\\\\62. VPQH hỗ trợ Đại Biểu QH.pdf',\n",
       " 'D:\\\\5. Minh và Hương\\\\3. Temp - Tài liệu luận văn chị Lương\\\\Vietnamese\\\\Vietnamese_2_divided_into_folders\\\\subfolder_34\\\\63. ORC QHVN 60 nam hinh thanh va phat trien.pdf',\n",
       " 'D:\\\\5. Minh và Hương\\\\3. Temp - Tài liệu luận văn chị Lương\\\\Vietnamese\\\\Vietnamese_2_divided_into_folders\\\\subfolder_34\\\\63. QHVN 60 nam hinh thanh va phat trien.docx',\n",
       " 'D:\\\\5. Minh và Hương\\\\3. Temp - Tài liệu luận văn chị Lương\\\\Vietnamese\\\\Vietnamese_2_divided_into_folders\\\\subfolder_34\\\\64. Quốc hội và doanh nghiệp.pdf',\n",
       " 'D:\\\\5. Minh và Hương\\\\3. Temp - Tài liệu luận văn chị Lương\\\\Vietnamese\\\\Vietnamese_2_divided_into_folders\\\\subfolder_35\\\\66-QuychevetochucvahoatdongcuaHoidongdantoc.docx',\n",
       " 'D:\\\\5. Minh và Hương\\\\3. Temp - Tài liệu luận văn chị Lương\\\\Vietnamese\\\\Vietnamese_2_divided_into_folders\\\\subfolder_35\\\\66-QuychevetochucvahoatdongcuaHoidongdantoc.pdf',\n",
       " 'D:\\\\5. Minh và Hương\\\\3. Temp - Tài liệu luận văn chị Lương\\\\Vietnamese\\\\Vietnamese_2_divided_into_folders\\\\subfolder_35\\\\66.Bosungtieuchicuthebophieutinnhiem.pdf.docx',\n",
       " 'D:\\\\5. Minh và Hương\\\\3. Temp - Tài liệu luận văn chị Lương\\\\Vietnamese\\\\Vietnamese_2_divided_into_folders\\\\subfolder_35\\\\67-Quychevetochucvahoatdongcuacacuybanthuongtruc.docx',\n",
       " 'D:\\\\5. Minh và Hương\\\\3. Temp - Tài liệu luận văn chị Lương\\\\Vietnamese\\\\Vietnamese_2_divided_into_folders\\\\subfolder_35\\\\67-Quychevetochucvahoatdongcuacacuybanthuongtruc.pdf',\n",
       " 'D:\\\\5. Minh và Hương\\\\3. Temp - Tài liệu luận văn chị Lương\\\\Vietnamese\\\\Vietnamese_2_divided_into_folders\\\\subfolder_40\\\\Cơ cấu tổ chức của Quốc hội & nhiệm vụ, quyền hạn của các cơ quan.docx',\n",
       " 'D:\\\\5. Minh và Hương\\\\3. Temp - Tài liệu luận văn chị Lương\\\\Vietnamese\\\\Vietnamese_2_divided_into_folders\\\\subfolder_40\\\\D05_NQ178_NQ ve to chuc cac co quan cua Quoc hoi.docx',\n",
       " 'D:\\\\5. Minh và Hương\\\\3. Temp - Tài liệu luận văn chị Lương\\\\Vietnamese\\\\Vietnamese_2_divided_into_folders\\\\subfolder_40\\\\hdlp va quy trinh lap phap VN HV tú.pdf',\n",
       " 'D:\\\\5. Minh và Hương\\\\3. Temp - Tài liệu luận văn chị Lương\\\\Vietnamese\\\\Vietnamese_2_divided_into_folders\\\\subfolder_40\\\\CÁC HOẠT ĐỘNG GIÁM SÁT CỦA QUỐC HỘI WEB QH.docx',\n",
       " 'D:\\\\5. Minh và Hương\\\\3. Temp - Tài liệu luận văn chị Lương\\\\Vietnamese\\\\Vietnamese_2_divided_into_folders\\\\subfolder_41\\\\Kinh_nghiem_mot_so_nuoc_tren_the_gioi_ve_to_chuc__hoat_dong_cua_Uy_ban_lam_thoi_(ban_cuoi).pdf',\n",
       " 'D:\\\\5. Minh và Hương\\\\3. Temp - Tài liệu luận văn chị Lương\\\\Vietnamese\\\\Vietnamese_2_divided_into_folders\\\\subfolder_41\\\\KYHT chương trình xây dựng luật.pdf',\n",
       " 'D:\\\\5. Minh và Hương\\\\3. Temp - Tài liệu luận văn chị Lương\\\\Vietnamese\\\\Vietnamese_2_divided_into_folders\\\\subfolder_41\\\\KYHT hỗ trợ đại biểu 2008.pdf',\n",
       " 'D:\\\\5. Minh và Hương\\\\3. Temp - Tài liệu luận văn chị Lương\\\\Vietnamese\\\\Vietnamese_2_divided_into_folders\\\\subfolder_41\\\\KYTHT tCNLLP Quoc hoi scan Paris.pdf',\n",
       " 'D:\\\\5. Minh và Hương\\\\3. Temp - Tài liệu luận văn chị Lương\\\\Vietnamese\\\\Vietnamese_2_divided_into_folders\\\\subfolder_41\\\\Luật Hoạt động giám sát 2023.docx',\n",
       " 'D:\\\\5. Minh và Hương\\\\3. Temp - Tài liệu luận văn chị Lương\\\\Vietnamese\\\\Vietnamese_2_divided_into_folders\\\\subfolder_41\\\\NQ 96-2023-QH15. Lấy phiếu tín nhiệm bỏ phiếu tín nhiệm.doc',\n",
       " 'D:\\\\5. Minh và Hương\\\\3. Temp - Tài liệu luận văn chị Lương\\\\Vietnamese\\\\Vietnamese_2_divided_into_folders\\\\subfolder_41\\\\NQ 317.2017. Che do ĐBQH.docx',\n",
       " 'D:\\\\5. Minh và Hương\\\\3. Temp - Tài liệu luận văn chị Lương\\\\Vietnamese\\\\Vietnamese_2_divided_into_folders\\\\subfolder_41\\\\NV và QH 9 Ủy ban.docx',\n",
       " 'D:\\\\5. Minh và Hương\\\\3. Temp - Tài liệu luận văn chị Lương\\\\Vietnamese\\\\Vietnamese_2_divided_into_folders\\\\subfolder_41\\\\K1.QH14-lý luận về-ketluangiamsat.pdf',\n",
       " 'D:\\\\5. Minh và Hương\\\\3. Temp - Tài liệu luận văn chị Lương\\\\Vietnamese\\\\Vietnamese_2_divided_into_folders\\\\subfolder_42\\\\ORC tang cuong nang luc co quan giup viec cua QH.pdf',\n",
       " 'D:\\\\5. Minh và Hương\\\\3. Temp - Tài liệu luận văn chị Lương\\\\Vietnamese\\\\Vietnamese_2_divided_into_folders\\\\subfolder_42\\\\QC lam viec cua VPQH 2023.doc',\n",
       " 'D:\\\\5. Minh và Hương\\\\3. Temp - Tài liệu luận văn chị Lương\\\\Vietnamese\\\\Vietnamese_2_divided_into_folders\\\\subfolder_42\\\\QC phoi hop giua CNVP voi cac cquan thuoc UBTVQH.PDF',\n",
       " 'D:\\\\5. Minh và Hương\\\\3. Temp - Tài liệu luận văn chị Lương\\\\Vietnamese\\\\Vietnamese_2_divided_into_folders\\\\subfolder_42\\\\QD307-VPQH ban hanh QD ve quy trinh xu ly van ban_.docx',\n",
       " 'D:\\\\5. Minh và Hương\\\\3. Temp - Tài liệu luận văn chị Lương\\\\Vietnamese\\\\Vietnamese_2_divided_into_folders\\\\subfolder_42\\\\QD622-VPQH ve chuc nang nhiem vu cac cuc vu don vi.doc',\n",
       " 'D:\\\\5. Minh và Hương\\\\3. Temp - Tài liệu luận văn chị Lương\\\\Vietnamese\\\\Vietnamese_2_divided_into_folders\\\\subfolder_42\\\\QH15_Luat-NQ thong qua_update Ky BT9.docx',\n",
       " 'D:\\\\5. Minh và Hương\\\\3. Temp - Tài liệu luận văn chị Lương\\\\Vietnamese\\\\Vietnamese_2_divided_into_folders\\\\subfolder_42\\\\Quy che phoi hop_UBTVQH-DCT UBTWMTTQVN chinh thuc_2018___20210708160442 (1).docx',\n",
       " 'D:\\\\5. Minh và Hương\\\\3. Temp - Tài liệu luận văn chị Lương\\\\Vietnamese\\\\Vietnamese_2_divided_into_folders\\\\subfolder_43\\\\Quốc hội khoá 14 thành tựu.pdf',\n",
       " 'D:\\\\5. Minh và Hương\\\\3. Temp - Tài liệu luận văn chị Lương\\\\Vietnamese\\\\Vietnamese_2_divided_into_folders\\\\subfolder_43\\\\QUỐC HỘI.docx',\n",
       " 'D:\\\\5. Minh và Hương\\\\3. Temp - Tài liệu luận văn chị Lương\\\\Vietnamese\\\\Vietnamese_2_divided_into_folders\\\\subfolder_43\\\\Trần Tuyết Mai.doc',\n",
       " 'D:\\\\5. Minh và Hương\\\\3. Temp - Tài liệu luận văn chị Lương\\\\Vietnamese\\\\Vietnamese_2_divided_into_folders\\\\subfolder_43\\\\Uy chế làm việc UBTVQH. 2022.docx',\n",
       " 'D:\\\\5. Minh và Hương\\\\3. Temp - Tài liệu luận văn chị Lương\\\\Vietnamese\\\\Vietnamese_2_divided_into_folders\\\\subfolder_43\\\\Văn phòng Đoàn đại biểu Quốc hội 1004.signed.pdf',\n",
       " 'D:\\\\5. Minh và Hương\\\\3. Temp - Tài liệu luận văn chị Lương\\\\Vietnamese\\\\Vietnamese_2_divided_into_folders\\\\subfolder_43\\\\VitriphaplycuaQH_TrươngThiHongHa.pdf',\n",
       " 'D:\\\\5. Minh và Hương\\\\3. Temp - Tài liệu luận văn chị Lương\\\\Vietnamese\\\\Vietnamese_2_divided_into_folders\\\\subfolder_43\\\\00. Quốc hội VN lý luận và thực tiễn.in.pdf',\n",
       " 'D:\\\\5. Minh và Hương\\\\3. Temp - Tài liệu luận văn chị Lương\\\\Vietnamese\\\\Vietnamese_2_divided_into_folders\\\\subfolder_44\\\\10. ĐỔI MỚI - TỪ NHỮNG VIỆC CỤ THỂ.doc',\n",
       " 'D:\\\\5. Minh và Hương\\\\3. Temp - Tài liệu luận văn chị Lương\\\\Vietnamese\\\\Vietnamese_2_divided_into_folders\\\\subfolder_53\\\\5. BVCG_Ngo Tu Nam_Tieu chi danh gia DBQH trong lap phap_2023_TTBDDBDC.pdf',\n",
       " 'D:\\\\5. Minh và Hương\\\\3. Temp - Tài liệu luận văn chị Lương\\\\Vietnamese\\\\Vietnamese_2_divided_into_folders\\\\subfolder_54\\\\7. BVCG_Le Viet Truong_Tieu chi danh gia DBQH trong HDGS_2023_TTBDDBDC.pdf',\n",
       " 'D:\\\\5. Minh và Hương\\\\3. Temp - Tài liệu luận văn chị Lương\\\\Vietnamese\\\\Vietnamese_2_divided_into_folders\\\\subfolder_54\\\\7.BVCG_Ngo Thi Tam_Vai tro LPTN trong XD NNPQ_2023_Vu CTDB.pdf',\n",
       " 'D:\\\\5. Minh và Hương\\\\3. Temp - Tài liệu luận văn chị Lương\\\\Vietnamese\\\\Vietnamese_2_divided_into_folders\\\\subfolder_54\\\\8. BVCG_ Le Viet Truong_Doi moi co cau DBQH_2023_TTBDDBDC.pdf',\n",
       " 'D:\\\\5. Minh và Hương\\\\3. Temp - Tài liệu luận văn chị Lương\\\\Vietnamese\\\\Vietnamese_2_divided_into_folders\\\\subfolder_54\\\\57. Hoan thien quy dinh Pl_pham vi chu the ban hanh VBQPPL_uy quyen LP.pdf.pdf',\n",
       " 'D:\\\\5. Minh và Hương\\\\3. Temp - Tài liệu luận văn chị Lương\\\\Vietnamese\\\\Vietnamese_2_divided_into_folders\\\\subfolder_54\\\\65ff404a-b374-404a-8ace-87d2ee6f70e8.pdf',\n",
       " 'D:\\\\5. Minh và Hương\\\\3. Temp - Tài liệu luận văn chị Lương\\\\Vietnamese\\\\Vietnamese_2_divided_into_folders\\\\subfolder_54\\\\66.Bosungtieuchiecubophieutinnhiem.pdf',\n",
       " 'D:\\\\5. Minh và Hương\\\\3. Temp - Tài liệu luận văn chị Lương\\\\Vietnamese\\\\Vietnamese_2_divided_into_folders\\\\subfolder_54\\\\79. Quy trinh xay dung Luat, nghi quyet cua QH theo quy dinh cua Luat ban hanh van ban QPPL 2015.pdf',\n",
       " 'D:\\\\5. Minh và Hương\\\\3. Temp - Tài liệu luận văn chị Lương\\\\Vietnamese\\\\Vietnamese_2_divided_into_folders\\\\subfolder_54\\\\681b5da4-3b14-4453-94a0-a2602f359bc1.pdf',\n",
       " 'D:\\\\5. Minh và Hương\\\\3. Temp - Tài liệu luận văn chị Lương\\\\Vietnamese\\\\Vietnamese_2_divided_into_folders\\\\subfolder_54\\\\60732504638423301466599639348754247953.pdf',\n",
       " 'D:\\\\5. Minh và Hương\\\\3. Temp - Tài liệu luận văn chị Lương\\\\Vietnamese\\\\Vietnamese_2_divided_into_folders\\\\subfolder_54\\\\6ff84669-fbea-4eec-a8af-48080b044c55.pdf',\n",
       " 'D:\\\\5. Minh và Hương\\\\3. Temp - Tài liệu luận văn chị Lương\\\\Vietnamese\\\\Vietnamese_2_divided_into_folders\\\\subfolder_56\\\\BVCG _ Nguyen Minh Duc _ Cac dieu kien dam bao hoat dong cua DBQH _ 2022_TTBD DBDC.pdf',\n",
       " 'D:\\\\5. Minh và Hương\\\\3. Temp - Tài liệu luận văn chị Lương\\\\Vietnamese\\\\Vietnamese_2_divided_into_folders\\\\subfolder_56\\\\BVCG _LETHITHANHHA_Qdiem Mdich Phhuong Giai phap_2022_TTBD.pdf',\n",
       " 'D:\\\\5. Minh và Hương\\\\3. Temp - Tài liệu luận văn chị Lương\\\\Vietnamese\\\\Vietnamese_2_divided_into_folders\\\\subfolder_56\\\\BVCG _LETHITHANHHA_Quyen va Nghia vu cua DBQH trong hoc tap, boi duong_2022_TTBD.pdf',\n",
       " 'D:\\\\5. Minh và Hương\\\\3. Temp - Tài liệu luận văn chị Lương\\\\Vietnamese\\\\Vietnamese_2_divided_into_folders\\\\subfolder_56\\\\BVCG _LETHITHANHHA_Vtri Vtro cua DBQH_2022_TTBD.pdf',\n",
       " 'D:\\\\5. Minh và Hương\\\\3. Temp - Tài liệu luận văn chị Lương\\\\Vietnamese\\\\Vietnamese_2_divided_into_folders\\\\subfolder_56\\\\BVCG _PHITHIOANH_Cac yeu to lien quan_2022_TTBD.pdf',\n",
       " 'D:\\\\5. Minh và Hương\\\\3. Temp - Tài liệu luận văn chị Lương\\\\Vietnamese\\\\Vietnamese_2_divided_into_folders\\\\subfolder_56\\\\BVCG_BUIDANGDUNG_Phtich nhu cau bd_2022_TTBD.pdf',\n",
       " 'D:\\\\5. Minh và Hương\\\\3. Temp - Tài liệu luận văn chị Lương\\\\Vietnamese\\\\Vietnamese_2_divided_into_folders\\\\subfolder_56\\\\BVCG_BuiHuyBinh_LapquytaiConghoaPhapvaKinhnghiemchoVietNam_2024_TVQH.pdf',\n",
       " 'D:\\\\5. Minh và Hương\\\\3. Temp - Tài liệu luận văn chị Lương\\\\Vietnamese\\\\Vietnamese_2_divided_into_folders\\\\subfolder_56\\\\BVCG_BuiThiThuHuong_Cac giai phap NCNL DBDH. ve the che_2022_TTBD.pdf',\n",
       " 'D:\\\\5. Minh và Hương\\\\3. Temp - Tài liệu luận văn chị Lương\\\\Vietnamese\\\\Vietnamese_2_divided_into_folders\\\\subfolder_56\\\\BVCG_CaoThiThuy_Thuc trang va giai phap DBQH hoat dong tai doan DBQH DP_2022_TTBD.pdf',\n",
       " 'D:\\\\5. Minh và Hương\\\\3. Temp - Tài liệu luận văn chị Lương\\\\Vietnamese\\\\Vietnamese_2_divided_into_folders\\\\subfolder_56\\\\BCTT_UBTVQH15_Ky8Khoa15 ve KQ tiep CD, XL don thu va GS viec GQ KN, TC cua CD gui den QH nam 2024.pdf',\n",
       " 'D:\\\\5. Minh và Hương\\\\3. Temp - Tài liệu luận văn chị Lương\\\\Vietnamese\\\\Vietnamese_2_divided_into_folders\\\\subfolder_58\\\\bổ nhiệm.pdf',\n",
       " 'D:\\\\5. Minh và Hương\\\\3. Temp - Tài liệu luận văn chị Lương\\\\Vietnamese\\\\Vietnamese_2_divided_into_folders\\\\subfolder_58\\\\bỘ TƯ PHÁP.docx',\n",
       " 'D:\\\\5. Minh và Hương\\\\3. Temp - Tài liệu luận văn chị Lương\\\\Vietnamese\\\\Vietnamese_2_divided_into_folders\\\\subfolder_58\\\\BVCG_PhamThiQuynhNga_Quan diem nang cao vai tro DBQH_2022_TTBD.pdf',\n",
       " 'D:\\\\5. Minh và Hương\\\\3. Temp - Tài liệu luận văn chị Lương\\\\Vietnamese\\\\Vietnamese_2_divided_into_folders\\\\subfolder_58\\\\BVCG_VUVANPHONG_Chdo bdam phvu ctac bd_2022_TTBD.pdf',\n",
       " 'D:\\\\5. Minh và Hương\\\\3. Temp - Tài liệu luận văn chị Lương\\\\Vietnamese\\\\Vietnamese_2_divided_into_folders\\\\subfolder_58\\\\BVCG_VUVANPHONG_Pham vi va ndung nghcuu_2022_TTBD.pdf',\n",
       " 'D:\\\\5. Minh và Hương\\\\3. Temp - Tài liệu luận văn chị Lương\\\\Vietnamese\\\\Vietnamese_2_divided_into_folders\\\\subfolder_58\\\\chua THỰC TRẠNG HOẠT ĐỘNG LẬP PHÁP VÀ GIÁM SÁT của UB.pdf',\n",
       " 'D:\\\\5. Minh và Hương\\\\3. Temp - Tài liệu luận văn chị Lương\\\\Vietnamese\\\\Vietnamese_2_divided_into_folders\\\\subfolder_58\\\\bám sát lĩnh vực liên quan.docx',\n",
       " 'D:\\\\5. Minh và Hương\\\\3. Temp - Tài liệu luận văn chị Lương\\\\Vietnamese\\\\Vietnamese_2_divided_into_folders\\\\subfolder_59\\\\Chuanbilayphieutinnhiem.Nhieubaocaocongtacnangkethanhtich.pdf',\n",
       " 'D:\\\\5. Minh và Hương\\\\3. Temp - Tài liệu luận văn chị Lương\\\\Vietnamese\\\\Vietnamese_2_divided_into_folders\\\\subfolder_59\\\\Chuanbithatkydelayphieutinnhiem.pdf',\n",
       " 'D:\\\\5. Minh và Hương\\\\3. Temp - Tài liệu luận văn chị Lương\\\\Vietnamese\\\\Vietnamese_2_divided_into_folders\\\\subfolder_59\\\\Coichung.pdf',\n",
       " 'D:\\\\5. Minh và Hương\\\\3. Temp - Tài liệu luận văn chị Lương\\\\Vietnamese\\\\Vietnamese_2_divided_into_folders\\\\subfolder_59\\\\Công khai.pdf',\n",
       " 'D:\\\\5. Minh và Hương\\\\3. Temp - Tài liệu luận văn chị Lương\\\\Vietnamese\\\\Vietnamese_2_divided_into_folders\\\\subfolder_59\\\\DCPL422_QLPvaGHcuaQLP-MotvaigoimoNCtaiVNhiennay.pdf',\n",
       " 'D:\\\\5. Minh và Hương\\\\3. Temp - Tài liệu luận văn chị Lương\\\\Vietnamese\\\\Vietnamese_2_divided_into_folders\\\\subfolder_59\\\\Dia vi phap ly cua Doan Dai bieu Quoc hoi.pdf',\n",
       " 'D:\\\\5. Minh và Hương\\\\3. Temp - Tài liệu luận văn chị Lương\\\\Vietnamese\\\\Vietnamese_2_divided_into_folders\\\\subfolder_59\\\\Dinh huong nang cao chat luong LPGS-Tran Van.pdf',\n",
       " 'D:\\\\5. Minh và Hương\\\\3. Temp - Tài liệu luận văn chị Lương\\\\Vietnamese\\\\Vietnamese_2_divided_into_folders\\\\subfolder_59\\\\chua Tiep-tuc-hoan-thien-quy-trinh-thu-tuc-lam-viec-cua-quoc-hoi-docx.pdf',\n",
       " 'D:\\\\5. Minh và Hương\\\\3. Temp - Tài liệu luận văn chị Lương\\\\Vietnamese\\\\Vietnamese_2_divided_into_folders\\\\subfolder_60\\\\fd0c70eb-313b-4653-8ffc-1336b50b676e.pdf',\n",
       " 'D:\\\\5. Minh và Hương\\\\3. Temp - Tài liệu luận văn chị Lương\\\\Vietnamese\\\\Vietnamese_2_divided_into_folders\\\\subfolder_60\\\\FINAL. Tai lieu HT1 27.11.2024.pdf',\n",
       " 'D:\\\\5. Minh và Hương\\\\3. Temp - Tài liệu luận văn chị Lương\\\\Vietnamese\\\\Vietnamese_2_divided_into_folders\\\\subfolder_60\\\\GÓC NHÌN Nguyễn đình quyền.docx',\n",
       " 'D:\\\\5. Minh và Hương\\\\3. Temp - Tài liệu luận văn chị Lương\\\\Vietnamese\\\\Vietnamese_2_divided_into_folders\\\\subfolder_60\\\\hieu qua Giai trinh.docx',\n",
       " 'D:\\\\5. Minh và Hương\\\\3. Temp - Tài liệu luận văn chị Lương\\\\Vietnamese\\\\Vietnamese_2_divided_into_folders\\\\subfolder_60\\\\Hoan thien phap luat ve uy quyen lap phap o Viet Nam hien nay-FINAL.pdf',\n",
       " 'D:\\\\5. Minh và Hương\\\\3. Temp - Tài liệu luận văn chị Lương\\\\Vietnamese\\\\Vietnamese_2_divided_into_folders\\\\subfolder_60\\\\Hoan thien quy dinh Pl_pham vi chu the ban hanh VBQPPL_uy quyen LP.pdf',\n",
       " 'D:\\\\5. Minh và Hương\\\\3. Temp - Tài liệu luận văn chị Lương\\\\Vietnamese\\\\Vietnamese_2_divided_into_folders\\\\subfolder_60\\\\Hoan-thien-phap-luat-ve-hoat-dong-chat-van-tai-phien-hop-uy-ban-thuong-vu-quoc-hoi-pot.pdf',\n",
       " 'D:\\\\5. Minh và Hương\\\\3. Temp - Tài liệu luận văn chị Lương\\\\Vietnamese\\\\Vietnamese_2_divided_into_folders\\\\subfolder_60\\\\Hoang Van Tu.pdf',\n",
       " 'D:\\\\5. Minh và Hương\\\\3. Temp - Tài liệu luận văn chị Lương\\\\Vietnamese\\\\Vietnamese_2_divided_into_folders\\\\subfolder_60\\\\download.pdf',\n",
       " 'D:\\\\5. Minh và Hương\\\\3. Temp - Tài liệu luận văn chị Lương\\\\Vietnamese\\\\Vietnamese_2_divided_into_folders\\\\subfolder_61\\\\KHPL2.24_Quyền lập pháp theo quy định của HP năm 2013 và việc triển khai thi hành.pdf',\n",
       " 'D:\\\\5. Minh và Hương\\\\3. Temp - Tài liệu luận văn chị Lương\\\\Vietnamese\\\\Vietnamese_2_divided_into_folders\\\\subfolder_61\\\\Kim Anh.docx',\n",
       " 'D:\\\\5. Minh và Hương\\\\3. Temp - Tài liệu luận văn chị Lương\\\\Vietnamese\\\\Vietnamese_2_divided_into_folders\\\\subfolder_61\\\\KiyeuQHVN70nam.pdf',\n",
       " 'D:\\\\5. Minh và Hương\\\\3. Temp - Tài liệu luận văn chị Lương\\\\Vietnamese\\\\Vietnamese_2_divided_into_folders\\\\subfolder_61\\\\Ky5Khoa15_TaphopvanbanPLlienquandtNQlayphieutinnhiem___20230526091530.pdf',\n",
       " 'D:\\\\5. Minh và Hương\\\\3. Temp - Tài liệu luận văn chị Lương\\\\Vietnamese\\\\Vietnamese_2_divided_into_folders\\\\subfolder_61\\\\LA_DEANDOIMOICONGTACBOIDUONG.pdf',\n",
       " 'D:\\\\5. Minh và Hương\\\\3. Temp - Tài liệu luận văn chị Lương\\\\Vietnamese\\\\Vietnamese_2_divided_into_folders\\\\subfolder_61\\\\Langnghenhandan,layphieutinnhiemchinhxac.pdf',\n",
       " 'D:\\\\5. Minh và Hương\\\\3. Temp - Tài liệu luận văn chị Lương\\\\Vietnamese\\\\Vietnamese_2_divided_into_folders\\\\subfolder_61\\\\Layphieutinnhiem.Cothemoravanhoatuchuc.pdf',\n",
       " 'D:\\\\5. Minh và Hương\\\\3. Temp - Tài liệu luận văn chị Lương\\\\Vietnamese\\\\Vietnamese_2_divided_into_folders\\\\subfolder_61\\\\Layphieutinnhiem.pdf',\n",
       " 'D:\\\\5. Minh và Hương\\\\3. Temp - Tài liệu luận văn chị Lương\\\\Vietnamese\\\\Vietnamese_2_divided_into_folders\\\\subfolder_61\\\\Luathoc1.2004_B9_Hoatdongtiepxuccutri.pdf',\n",
       " 'D:\\\\5. Minh và Hương\\\\3. Temp - Tài liệu luận văn chị Lương\\\\Vietnamese\\\\Vietnamese_2_divided_into_folders\\\\subfolder_62\\\\Luật tổ chức và GS về Lấy phiếu tín nhiệm và bỏ phiếu tín nhiệm.docx',\n",
       " 'D:\\\\5. Minh và Hương\\\\3. Temp - Tài liệu luận văn chị Lương\\\\Vietnamese\\\\Vietnamese_2_divided_into_folders\\\\subfolder_62\\\\Luathoc3.1997-B6_ĐBQHchuyentrach.pdf',\n",
       " 'D:\\\\5. Minh và Hương\\\\3. Temp - Tài liệu luận văn chị Lương\\\\Vietnamese\\\\Vietnamese_2_divided_into_folders\\\\subfolder_62\\\\Luathoc5.1995_B3_Quyenlapphap-quyenlapquy.pdf',\n",
       " 'D:\\\\5. Minh và Hương\\\\3. Temp - Tài liệu luận văn chị Lương\\\\Vietnamese\\\\Vietnamese_2_divided_into_folders\\\\subfolder_62\\\\LuattochucQuochoi.pdf',\n",
       " 'D:\\\\5. Minh và Hương\\\\3. Temp - Tài liệu luận văn chị Lương\\\\Vietnamese\\\\Vietnamese_2_divided_into_folders\\\\subfolder_62\\\\Mai thoa.docx',\n",
       " 'D:\\\\5. Minh và Hương\\\\3. Temp - Tài liệu luận văn chị Lương\\\\Vietnamese\\\\Vietnamese_2_divided_into_folders\\\\subfolder_62\\\\Mot-so-van-de-cai-tien-xay-dung-quy-trinh-thu-tuc-phien-hop-toan-the-cua-quoc-hoi-doc.pdf',\n",
       " 'D:\\\\5. Minh và Hương\\\\3. Temp - Tài liệu luận văn chị Lương\\\\Vietnamese\\\\Vietnamese_2_divided_into_folders\\\\subfolder_62\\\\Luật hóa Nghị quyết số 96.pdf',\n",
       " 'D:\\\\5. Minh và Hương\\\\3. Temp - Tài liệu luận văn chị Lương\\\\Vietnamese\\\\Vietnamese_2_divided_into_folders\\\\subfolder_63\\\\MotsokiennghisuadoibosungLuattochucQuochoi.pdf',\n",
       " 'D:\\\\5. Minh và Hương\\\\3. Temp - Tài liệu luận văn chị Lương\\\\Vietnamese\\\\Vietnamese_2_divided_into_folders\\\\subfolder_63\\\\NCLP721_DoimoiquytrinhlapphapoVNtrongdieukienCMCNlanthu4.pdf',\n",
       " 'D:\\\\5. Minh và Hương\\\\3. Temp - Tài liệu luận văn chị Lương\\\\Vietnamese\\\\Vietnamese_2_divided_into_folders\\\\subfolder_63\\\\NCLP722_Quyentiepcanthongtin-tronghoatdonglapphap.pdf',\n",
       " 'D:\\\\5. Minh và Hương\\\\3. Temp - Tài liệu luận văn chị Lương\\\\Vietnamese\\\\Vietnamese_2_divided_into_folders\\\\subfolder_63\\\\NCLP1121_NangcaonangluchoachdinhchinhsachcuaDBQHtrongHDLP.pdf',\n",
       " 'D:\\\\5. Minh và Hương\\\\3. Temp - Tài liệu luận văn chị Lương\\\\Vietnamese\\\\Vietnamese_2_divided_into_folders\\\\subfolder_63\\\\NCLP1121_QHlaphaphayhamlapphap.pdf',\n",
       " 'D:\\\\5. Minh và Hương\\\\3. Temp - Tài liệu luận văn chị Lương\\\\Vietnamese\\\\Vietnamese_2_divided_into_folders\\\\subfolder_63\\\\NCLP1521_Lapphapthoichuyendoiso.pdf',\n",
       " 'D:\\\\5. Minh và Hương\\\\3. Temp - Tài liệu luận văn chị Lương\\\\Vietnamese\\\\Vietnamese_2_divided_into_folders\\\\subfolder_63\\\\Nghị quyet 96 Lay phieu tin nhiem.pdf',\n",
       " 'D:\\\\5. Minh và Hương\\\\3. Temp - Tài liệu luận văn chị Lương\\\\Vietnamese\\\\Vietnamese_2_divided_into_folders\\\\subfolder_63\\\\Nghiencuu_JICA_QHmotsonuoc.pdf',\n",
       " 'D:\\\\5. Minh và Hương\\\\3. Temp - Tài liệu luận văn chị Lương\\\\Vietnamese\\\\Vietnamese_2_divided_into_folders\\\\subfolder_63\\\\Nguyen Dinh Quyen.pdf',\n",
       " 'D:\\\\5. Minh và Hương\\\\3. Temp - Tài liệu luận văn chị Lương\\\\Vietnamese\\\\Vietnamese_2_divided_into_folders\\\\subfolder_63\\\\Mối q.pdf',\n",
       " 'D:\\\\5. Minh và Hương\\\\3. Temp - Tài liệu luận văn chị Lương\\\\Vietnamese\\\\Vietnamese_2_divided_into_folders\\\\subfolder_67\\\\Tong thu ky.docx',\n",
       " 'D:\\\\5. Minh và Hương\\\\3. Temp - Tài liệu luận văn chị Lương\\\\Vietnamese\\\\Vietnamese_2_divided_into_folders\\\\subfolder_67\\\\TOTAL GIAI TRINH. final.docx',\n",
       " 'D:\\\\5. Minh và Hương\\\\3. Temp - Tài liệu luận văn chị Lương\\\\Vietnamese\\\\Vietnamese_2_divided_into_folders\\\\subfolder_67\\\\Trongsang,congtam.....pdf',\n",
       " 'D:\\\\5. Minh và Hương\\\\3. Temp - Tài liệu luận văn chị Lương\\\\Vietnamese\\\\Vietnamese_2_divided_into_folders\\\\subfolder_67\\\\TTKHXH221_NTHDQLNNlaTNcosuPCPHKSgiuacacCQNNtrongviecthuchiencacquyenLPHPTP.pdf',\n",
       " 'D:\\\\5. Minh và Hương\\\\3. Temp - Tài liệu luận văn chị Lương\\\\Vietnamese\\\\Vietnamese_2_divided_into_folders\\\\subfolder_67\\\\Tạ thị Yên.pdf',\n",
       " 'D:\\\\5. Minh và Hương\\\\3. Temp - Tài liệu luận văn chị Lương\\\\Vietnamese\\\\Vietnamese_2_divided_into_folders\\\\subfolder_68\\\\Từ 1_4, quy trình lập pháp có sự thay đổi lớn.pdf',\n",
       " 'D:\\\\5. Minh và Hương\\\\3. Temp - Tài liệu luận văn chị Lương\\\\Vietnamese\\\\Vietnamese_2_divided_into_folders\\\\subfolder_68\\\\UBPL Phap luat.docx',\n",
       " 'D:\\\\5. Minh và Hương\\\\3. Temp - Tài liệu luận văn chị Lương\\\\Vietnamese\\\\Vietnamese_2_divided_into_folders\\\\subfolder_68\\\\ubqpan.docx',\n",
       " 'D:\\\\5. Minh và Hương\\\\3. Temp - Tài liệu luận văn chị Lương\\\\Vietnamese\\\\Vietnamese_2_divided_into_folders\\\\subfolder_68\\\\UBTP.docx',\n",
       " 'D:\\\\5. Minh và Hương\\\\3. Temp - Tài liệu luận văn chị Lương\\\\Vietnamese\\\\Vietnamese_2_divided_into_folders\\\\subfolder_68\\\\Tạo cơ sở pháp lý.pdf']"
      ]
     },
     "execution_count": 10,
     "metadata": {},
     "output_type": "execute_result"
    }
   ],
   "source": [
    "all_files"
   ]
  },
  {
   "cell_type": "code",
   "execution_count": null,
   "id": "b6efeb6b",
   "metadata": {},
   "outputs": [],
   "source": []
  }
 ],
 "metadata": {
  "kernelspec": {
   "display_name": "Python 3",
   "language": "python",
   "name": "python3"
  },
  "language_info": {
   "codemirror_mode": {
    "name": "ipython",
    "version": 3
   },
   "file_extension": ".py",
   "mimetype": "text/x-python",
   "name": "python",
   "nbconvert_exporter": "python",
   "pygments_lexer": "ipython3",
   "version": "3.10.11"
  }
 },
 "nbformat": 4,
 "nbformat_minor": 5
}
