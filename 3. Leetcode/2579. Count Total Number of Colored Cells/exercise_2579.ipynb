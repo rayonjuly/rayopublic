{
 "cells": [
  {
   "cell_type": "code",
   "execution_count": 5,
   "metadata": {},
   "outputs": [
    {
     "data": {
      "text/plain": [
       "13"
      ]
     },
     "execution_count": 5,
     "metadata": {},
     "output_type": "execute_result"
    }
   ],
   "source": [
    "class Solution:\n",
    "    def coloredCells(self, n: int) -> int:\n",
    "        n = int(n)\n",
    "        in_side = n - 1\n",
    "        out_side = 2*n - 1\n",
    "        sq_outside = (2*n - 1)**2\n",
    "        triangle = n * (n-1) / 2\n",
    "\n",
    "        return int(sq_outside - 4 * triangle)\n",
    "    \n",
    "s = Solution()\n",
    "s.coloredCells(n = 3)"
   ]
  }
 ],
 "metadata": {
  "kernelspec": {
   "display_name": "base",
   "language": "python",
   "name": "python3"
  },
  "language_info": {
   "codemirror_mode": {
    "name": "ipython",
    "version": 3
   },
   "file_extension": ".py",
   "mimetype": "text/x-python",
   "name": "python",
   "nbconvert_exporter": "python",
   "pygments_lexer": "ipython3",
   "version": "3.12.3"
  }
 },
 "nbformat": 4,
 "nbformat_minor": 2
}
