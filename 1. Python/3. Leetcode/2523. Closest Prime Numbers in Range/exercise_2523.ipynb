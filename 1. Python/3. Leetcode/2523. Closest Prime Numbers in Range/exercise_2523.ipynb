{
 "cells": [
  {
   "cell_type": "code",
   "execution_count": 16,
   "metadata": {},
   "outputs": [],
   "source": [
    "from math import sqrt, floor\n",
    "def isPrime(n):\n",
    "    if n in [1,2,3]: \n",
    "        return True\n",
    "    elif n % 2 == 0:\n",
    "        return False\n",
    "    else:\n",
    "        sq = floor(sqrt(n))\n",
    "        for i in range(2,sq+1):\n",
    "            if n % i == 0:\n",
    "                return False\n",
    "        \n",
    "        return True\n"
   ]
  },
  {
   "cell_type": "code",
   "execution_count": null,
   "metadata": {},
   "outputs": [
    {
     "data": {
      "text/plain": [
       "(999959, 999961)"
      ]
     },
     "execution_count": 58,
     "metadata": {},
     "output_type": "execute_result"
    }
   ],
   "source": [
    "from math import sqrt, floor\n",
    "class Solution:\n",
    "    def isPrime(self, n: int):\n",
    "        if n == 1:\n",
    "            return False\n",
    "        elif n in [2,3]: \n",
    "            return True\n",
    "        elif n % 2 == 0:\n",
    "            return False\n",
    "        else:\n",
    "            sq = floor(sqrt(n))\n",
    "            for i in range(2,sq+1):\n",
    "                if n % i == 0:\n",
    "                    return False\n",
    "            \n",
    "            return True\n",
    "        \n",
    "    def closestPrimes(self, left: int, right: int):\n",
    "        prime_list = []\n",
    "        bench = 2\n",
    "        if left == right:\n",
    "            return (-1, -1)\n",
    "        elif right - left <= 2 and left >= 4 and left % 2 == 0:\n",
    "            return (-1, -1)\n",
    "        for i in range(left, right+1):\n",
    "            if self.isPrime(i) == True:\n",
    "                prime_list.append(i)\n",
    "                \n",
    "            if len(prime_list) >= 2:\n",
    "                if i - prime_list[-2] <= 2:\n",
    "                    return (prime_list[-2], i)    \n",
    "\n",
    "\n",
    "        if len(prime_list) == 1:\n",
    "            return (-1, -1)\n",
    "        else:\n",
    "            bench = prime_list[1] - prime_list[0]\n",
    "            num1 = prime_list[0]\n",
    "            num2 = prime_list[1]\n",
    "            for i in range(1, len(prime_list)):\n",
    "                if prime_list[i] - prime_list[i-1] < bench:\n",
    "                    num1 = prime_list[i-1]\n",
    "                    num2 = prime_list[i]\n",
    "        \n",
    "                \n",
    "        return (num1, num2)\n",
    "\n",
    "    \n",
    "s = Solution()\n",
    "s.closestPrimes(left = 999959, right = 999961)"
   ]
  },
  {
   "cell_type": "code",
   "execution_count": 54,
   "metadata": {},
   "outputs": [
    {
     "data": {
      "text/plain": [
       "69379"
      ]
     },
     "execution_count": 54,
     "metadata": {},
     "output_type": "execute_result"
    }
   ],
   "source": [
    "[69371, 69379][1]\n",
    "    \n"
   ]
  },
  {
   "cell_type": "code",
   "execution_count": 26,
   "metadata": {},
   "outputs": [
    {
     "ename": "IndexError",
     "evalue": "list index out of range",
     "output_type": "error",
     "traceback": [
      "\u001b[1;31m---------------------------------------------------------------------------\u001b[0m",
      "\u001b[1;31mIndexError\u001b[0m                                Traceback (most recent call last)",
      "Cell \u001b[1;32mIn[26], line 1\u001b[0m\n\u001b[1;32m----> 1\u001b[0m \u001b[43m[\u001b[49m\u001b[43m]\u001b[49m\u001b[43m[\u001b[49m\u001b[38;5;241;43m-\u001b[39;49m\u001b[38;5;241;43m1\u001b[39;49m\u001b[43m]\u001b[49m\n",
      "\u001b[1;31mIndexError\u001b[0m: list index out of range"
     ]
    }
   ],
   "source": [
    "[][-1]"
   ]
  }
 ],
 "metadata": {
  "kernelspec": {
   "display_name": "base",
   "language": "python",
   "name": "python3"
  },
  "language_info": {
   "codemirror_mode": {
    "name": "ipython",
    "version": 3
   },
   "file_extension": ".py",
   "mimetype": "text/x-python",
   "name": "python",
   "nbconvert_exporter": "python",
   "pygments_lexer": "ipython3",
   "version": "3.12.3"
  }
 },
 "nbformat": 4,
 "nbformat_minor": 2
}
