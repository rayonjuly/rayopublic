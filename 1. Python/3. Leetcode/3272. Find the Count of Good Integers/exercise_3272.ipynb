{
 "cells": [
  {
   "cell_type": "code",
   "execution_count": 19,
   "id": "7574a743",
   "metadata": {},
   "outputs": [
    {
     "name": "stdout",
     "output_type": "stream",
     "text": [
      "Elapsed time: 3.90 seconds\n"
     ]
    }
   ],
   "source": [
    "import time\n",
    "\n",
    "start = time.time()\n",
    "\n",
    "# Your code here\n",
    "# e.g., time.sleep(2)\n",
    "\n",
    "\n",
    "\n",
    "def is_palindrome(n: int):\n",
    "    return str(n) == str(n)[::-1]\n",
    "\n",
    "def return_n_digit_number(n: int, k):\n",
    "    return range(10**(n-1), 10**n, k)\n",
    "\n",
    "def return_k_palindrome_by_n_digit_number(n,k):\n",
    "    result = []\n",
    "    for i in return_n_digit_number(n,k):\n",
    "        if i % k == 0 and is_palindrome(i):\n",
    "            result.append(i)\n",
    "            \n",
    "    return result, len(result)\n",
    "\n",
    "x = return_k_palindrome_by_n_digit_number(9,9)\n",
    "end = time.time()\n",
    "print(f\"Elapsed time: {end - start:.2f} seconds\")"
   ]
  },
  {
   "cell_type": "code",
   "execution_count": 17,
   "id": "6cfd85e4",
   "metadata": {},
   "outputs": [
    {
     "data": {
      "text/plain": [
       "10000"
      ]
     },
     "execution_count": 17,
     "metadata": {},
     "output_type": "execute_result"
    }
   ],
   "source": [
    "x[1]"
   ]
  }
 ],
 "metadata": {
  "kernelspec": {
   "display_name": "base",
   "language": "python",
   "name": "python3"
  },
  "language_info": {
   "codemirror_mode": {
    "name": "ipython",
    "version": 3
   },
   "file_extension": ".py",
   "mimetype": "text/x-python",
   "name": "python",
   "nbconvert_exporter": "python",
   "pygments_lexer": "ipython3",
   "version": "3.12.3"
  }
 },
 "nbformat": 4,
 "nbformat_minor": 5
}
