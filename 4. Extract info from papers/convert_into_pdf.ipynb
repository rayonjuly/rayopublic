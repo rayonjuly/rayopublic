{
 "cells": [
  {
   "cell_type": "code",
   "execution_count": 17,
   "id": "11840f1c",
   "metadata": {},
   "outputs": [
    {
     "name": "stderr",
     "output_type": "stream",
     "text": [
      "  0%|          | 0/1 [00:00<?, ?it/s]"
     ]
    },
    {
     "ename": "com_error",
     "evalue": "(-2147352567, 'Exception occurred.', (0, 'Microsoft Word', 'Sorry, we couldn\\'t find your file. Was it moved, renamed, or deleted?\\r (\"D:\\\\...\\\\13.1. 2019.05.06 Huong dan v...\")', 'wdmain11.chm', 24654, -2146823114), None)",
     "output_type": "error",
     "traceback": [
      "\u001b[1;31m---------------------------------------------------------------------------\u001b[0m",
      "\u001b[1;31mcom_error\u001b[0m                                 Traceback (most recent call last)",
      "Cell \u001b[1;32mIn [17], line 2\u001b[0m\n\u001b[0;32m      1\u001b[0m \u001b[38;5;28;01mfrom\u001b[39;00m \u001b[38;5;21;01mdocx2pdf\u001b[39;00m \u001b[38;5;28;01mimport\u001b[39;00m convert\n\u001b[1;32m----> 2\u001b[0m \u001b[43mconvert\u001b[49m\u001b[43m(\u001b[49m\u001b[38;5;124;43mr\u001b[39;49m\u001b[38;5;124;43m'\u001b[39;49m\u001b[38;5;124;43mVietnamese/subfolder_0/13.1. 2019.05.06 Huong dan ve cong tac giam sat van ban QPPL.docx\u001b[39;49m\u001b[38;5;124;43m'\u001b[39;49m\u001b[43m)\u001b[49m\n",
      "File \u001b[1;32m~\\AppData\\Local\\Packages\\PythonSoftwareFoundation.Python.3.10_qbz5n2kfra8p0\\LocalCache\\local-packages\\Python310\\site-packages\\docx2pdf\\__init__.py:106\u001b[0m, in \u001b[0;36mconvert\u001b[1;34m(input_path, output_path, keep_active)\u001b[0m\n\u001b[0;32m    104\u001b[0m     \u001b[38;5;28;01mreturn\u001b[39;00m macos(paths, keep_active)\n\u001b[0;32m    105\u001b[0m \u001b[38;5;28;01melif\u001b[39;00m sys\u001b[38;5;241m.\u001b[39mplatform \u001b[38;5;241m==\u001b[39m \u001b[38;5;124m\"\u001b[39m\u001b[38;5;124mwin32\u001b[39m\u001b[38;5;124m\"\u001b[39m:\n\u001b[1;32m--> 106\u001b[0m     \u001b[38;5;28;01mreturn\u001b[39;00m \u001b[43mwindows\u001b[49m\u001b[43m(\u001b[49m\u001b[43mpaths\u001b[49m\u001b[43m,\u001b[49m\u001b[43m \u001b[49m\u001b[43mkeep_active\u001b[49m\u001b[43m)\u001b[49m\n\u001b[0;32m    107\u001b[0m \u001b[38;5;28;01melse\u001b[39;00m:\n\u001b[0;32m    108\u001b[0m     \u001b[38;5;28;01mraise\u001b[39;00m \u001b[38;5;167;01mNotImplementedError\u001b[39;00m(\n\u001b[0;32m    109\u001b[0m         \u001b[38;5;124m\"\u001b[39m\u001b[38;5;124mdocx2pdf is not implemented for linux as it requires Microsoft Word to be installed\u001b[39m\u001b[38;5;124m\"\u001b[39m\n\u001b[0;32m    110\u001b[0m     )\n",
      "File \u001b[1;32m~\\AppData\\Local\\Packages\\PythonSoftwareFoundation.Python.3.10_qbz5n2kfra8p0\\LocalCache\\local-packages\\Python310\\site-packages\\docx2pdf\\__init__.py:32\u001b[0m, in \u001b[0;36mwindows\u001b[1;34m(paths, keep_active)\u001b[0m\n\u001b[0;32m     30\u001b[0m docx_filepath \u001b[38;5;241m=\u001b[39m Path(paths[\u001b[38;5;124m\"\u001b[39m\u001b[38;5;124minput\u001b[39m\u001b[38;5;124m\"\u001b[39m])\u001b[38;5;241m.\u001b[39mresolve()\n\u001b[0;32m     31\u001b[0m pdf_filepath \u001b[38;5;241m=\u001b[39m Path(paths[\u001b[38;5;124m\"\u001b[39m\u001b[38;5;124moutput\u001b[39m\u001b[38;5;124m\"\u001b[39m])\u001b[38;5;241m.\u001b[39mresolve()\n\u001b[1;32m---> 32\u001b[0m doc \u001b[38;5;241m=\u001b[39m \u001b[43mword\u001b[49m\u001b[38;5;241;43m.\u001b[39;49m\u001b[43mDocuments\u001b[49m\u001b[38;5;241;43m.\u001b[39;49m\u001b[43mOpen\u001b[49m\u001b[43m(\u001b[49m\u001b[38;5;28;43mstr\u001b[39;49m\u001b[43m(\u001b[49m\u001b[43mdocx_filepath\u001b[49m\u001b[43m)\u001b[49m\u001b[43m)\u001b[49m\n\u001b[0;32m     33\u001b[0m doc\u001b[38;5;241m.\u001b[39mSaveAs(\u001b[38;5;28mstr\u001b[39m(pdf_filepath), FileFormat\u001b[38;5;241m=\u001b[39mwdFormatPDF)\n\u001b[0;32m     34\u001b[0m doc\u001b[38;5;241m.\u001b[39mClose(\u001b[38;5;241m0\u001b[39m)\n",
      "File \u001b[1;32m<COMObject <unknown>>:5\u001b[0m, in \u001b[0;36mOpen\u001b[1;34m(self, FileName, ConfirmConversions, ReadOnly, AddToRecentFiles, PasswordDocument, PasswordTemplate, Revert, WritePasswordDocument, WritePasswordTemplate, Format, Encoding, Visible, OpenAndRepair, DocumentDirection, NoEncodingDialog, XMLTransform)\u001b[0m\n",
      "\u001b[1;31mcom_error\u001b[0m: (-2147352567, 'Exception occurred.', (0, 'Microsoft Word', 'Sorry, we couldn\\'t find your file. Was it moved, renamed, or deleted?\\r (\"D:\\\\...\\\\13.1. 2019.05.06 Huong dan v...\")', 'wdmain11.chm', 24654, -2146823114), None)"
     ]
    }
   ],
   "source": [
    "from docx2pdf import convert\n",
    "convert(r'Vietnamese/subfolder_0/13.1. 2019.05.06 Huong dan ve cong tac giam sat van ban QPPL.docx')"
   ]
  },
  {
   "cell_type": "code",
   "execution_count": 16,
   "id": "76663f57",
   "metadata": {},
   "outputs": [],
   "source": [
    "from spire.doc import *\n",
    "from spire.doc.common import *\n",
    "document = Document()\n",
    "document.LoadFromFile(r\"D:\\5. Minh và Hương\\3. Temp - Tài liệu luận văn chị Lương\\Vietnamese\\subfolder_2\\31. a. thuan. HOẠT ĐỘNG BÁO CÁO, GIẢI TRÌNH TẠI HỘI ĐỒNG DÂN TỘC, CÁC ỦY BAN CỦA QUỐC HỘI  Ở NƯỚC TA HIỆN NAY).doc\")\n",
    "document.SaveToFile(\"WordToPdf.pdf\", FileFormat.PDF)\n",
    "document.Close()"
   ]
  },
  {
   "cell_type": "code",
   "execution_count": 4,
   "id": "596fb218",
   "metadata": {},
   "outputs": [
    {
     "name": "stdout",
     "output_type": "stream",
     "text": [
      "D:\\5. Minh và Hương\\3. Temp - Tài liệu luận văn chị Lương\\Vietnamese\\Vietnamese_2_divided_into_folders\\subfolder_45\\19.HOÀN THIỆN TỔ CHỨC VÀ ĐỔI MỚI NỘI DUNG HOẠT ĐỘNG CƠ QUAN CHUYÊN MÔN CỦA QUỐC HỘI.rtf\n",
      "D:\\5. Minh và Hương\\3. Temp - Tài liệu luận văn chị Lương\\Vietnamese\\Vietnamese_2_divided_into_folders\\subfolder_45\\20. VỊ TRÍ, VAI TRÒ VÀ CHỨC NĂNG CỦA ĐOÀN ĐẠI BIỂU QUỐC HỘI.rtf\n",
      "D:\\5. Minh và Hương\\3. Temp - Tài liệu luận văn chị Lương\\Vietnamese\\Vietnamese_2_divided_into_folders\\subfolder_45\\22.NÂNG CAO HIỆU QUẢ HOẠT ĐỘNG CỦA QUỐC HỘI.rtf\n",
      "D:\\5. Minh và Hương\\3. Temp - Tài liệu luận văn chị Lương\\Vietnamese\\Vietnamese_2_divided_into_folders\\subfolder_45\\24.5 NĂM - CÁI NHÌN CỦA NHỮNG NGƯỜI TRONG CUỘC.rtf\n",
      "D:\\5. Minh và Hương\\3. Temp - Tài liệu luận văn chị Lương\\Vietnamese\\Vietnamese_2_divided_into_folders\\subfolder_46\\28. ĐỔI MỚI CÁC CÔNG ĐOẠN LÀM LUẬT VÀ ĐƯA VÀO CUỘC SỐNG.rtf\n",
      "D:\\5. Minh và Hương\\3. Temp - Tài liệu luận văn chị Lương\\Vietnamese\\Vietnamese_2_divided_into_folders\\subfolder_47\\37. QUYỀN GIÁM SÁT TỐI CAO CỦA QUỐC HỘI VÀ QUYỀN GIÁM SÁT CỦA CÁC CƠ QUAN CỦA QUỐC HỘI.rtf\n",
      "D:\\5. Minh và Hương\\3. Temp - Tài liệu luận văn chị Lương\\Vietnamese\\Vietnamese_2_divided_into_folders\\subfolder_47\\41. HOẠT ĐỘNG GIÁM SÁT CỦA QUỐC HỘI ĐỐI VỚI VĂN BẢN PHÁP LUẬT.rtf\n",
      "D:\\5. Minh và Hương\\3. Temp - Tài liệu luận văn chị Lương\\Vietnamese\\Vietnamese_2_divided_into_folders\\subfolder_47\\42. GIÁM SÁT TÀI CHÍNH, ĐÁNH GIÁ HIỆU QUẢ.rtf\n",
      "D:\\5. Minh và Hương\\3. Temp - Tài liệu luận văn chị Lương\\Vietnamese\\Vietnamese_2_divided_into_folders\\subfolder_47\\43. MỘT VÀI SUY NGHĨ VỀ HOẠT ĐỘNG CHẤT VẤN CỦA QUỐC HỘI.rtf\n",
      "D:\\5. Minh và Hương\\3. Temp - Tài liệu luận văn chị Lương\\Vietnamese\\Vietnamese_2_divided_into_folders\\subfolder_47\\44. HOẠT ĐỘNG CHẤT VẤN - NHÌN TỪ THỰC TẾ  MỘT KỲ HỌP QUỐC HỘI.rtf\n",
      "D:\\5. Minh và Hương\\3. Temp - Tài liệu luận văn chị Lương\\Vietnamese\\Vietnamese_2_divided_into_folders\\subfolder_48\\45. BỎ PHIẾU TÍN NHIỆM – BÀN VỀ THỦ TỤC KHẢ THI.rtf\n"
     ]
    }
   ],
   "source": [
    "from glob import glob\n",
    "import re\n",
    "import os\n",
    "import win32com.client as win32\n",
    "from win32com.client import constants\n",
    "\n",
    "\n",
    "def change_word_format(file_path):\n",
    "    word = win32.gencache.EnsureDispatch('Word.Application')\n",
    "    doc = word.Documents.Open(file_path)\n",
    "    doc.Activate()\n",
    "\n",
    "    # Rename path with .doc\n",
    "    new_file_abs = os.path.abspath(file_path)\n",
    "    new_file_abs = re.sub(r'\\.\\w+$', '.doc', new_file_abs)\n",
    "\n",
    "    # Save and Close\n",
    "    word.ActiveDocument.SaveAs(\n",
    "        new_file_abs, FileFormat=constants.wdFormatDocument\n",
    "    )\n",
    "    doc.Close(False)\n",
    "\n",
    "\n",
    "start_folder = r'D:\\5. Minh và Hương\\3. Temp - Tài liệu luận văn chị Lương\\Vietnamese\\Vietnamese_2_divided_into_folders'\n",
    "\n",
    "for dirpath, dirnames, filenames in os.walk(start_folder):\n",
    "    for file in filenames:\n",
    "        if file.endswith('rtf'):\n",
    "            full_path = dirpath + '\\\\' + file\n",
    "            print(full_path)\n",
    "            change_word_format(full_path)"
   ]
  },
  {
   "cell_type": "code",
   "execution_count": 3,
   "id": "3e824276",
   "metadata": {},
   "outputs": [],
   "source": [
    "from glob import glob\n",
    "import re\n",
    "import os\n",
    "import win32com.client as win32\n",
    "from win32com.client import constants\n",
    "\n",
    "\n",
    "def change_word_format(file_path):\n",
    "    word = win32.gencache.EnsureDispatch('Word.Application')\n",
    "    doc = word.Documents.Open(file_path)\n",
    "    doc.Activate()\n",
    "\n",
    "    # Rename path with .doc\n",
    "    new_file_abs = os.path.abspath(file_path)\n",
    "    new_file_abs = re.sub(r'\\.\\w+$', '.doc', new_file_abs)\n",
    "\n",
    "    # Save and Close\n",
    "    word.ActiveDocument.SaveAs(\n",
    "        new_file_abs, FileFormat=constants.wdFormatDocument\n",
    "    )\n",
    "    doc.Close(False)\n",
    "\n",
    "change_word_format(r'D:\\5. Minh và Hương\\3. Temp - Tài liệu luận văn chị Lương\\Vietnamese\\19.HOÀN THIỆN TỔ CHỨC VÀ ĐỔI MỚI NỘI DUNG HOẠT ĐỘNG CƠ QUAN CHUYÊN MÔN CỦA QUỐC HỘI.rtf')"
   ]
  },
  {
   "cell_type": "code",
   "execution_count": null,
   "id": "5138723e",
   "metadata": {},
   "outputs": [],
   "source": []
  }
 ],
 "metadata": {
  "kernelspec": {
   "display_name": "Python 3",
   "language": "python",
   "name": "python3"
  },
  "language_info": {
   "codemirror_mode": {
    "name": "ipython",
    "version": 3
   },
   "file_extension": ".py",
   "mimetype": "text/x-python",
   "name": "python",
   "nbconvert_exporter": "python",
   "pygments_lexer": "ipython3",
   "version": "3.10.11"
  }
 },
 "nbformat": 4,
 "nbformat_minor": 5
}
