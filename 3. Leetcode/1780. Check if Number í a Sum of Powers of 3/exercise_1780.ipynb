{
 "cells": [
  {
   "cell_type": "code",
   "execution_count": 10,
   "metadata": {},
   "outputs": [
    {
     "data": {
      "text/plain": [
       "False"
      ]
     },
     "execution_count": 10,
     "metadata": {},
     "output_type": "execute_result"
    }
   ],
   "source": [
    "class Solution:\n",
    "    def checkPowersOfThree(self, n: int) -> bool:\n",
    "        if n == 1:\n",
    "            return True\n",
    "        elif n == 3:\n",
    "            return True\n",
    "        while n != 1:\n",
    "            if n % 3 == 2:\n",
    "                return False\n",
    "            elif n % 3 == 1:\n",
    "                return self.checkPowersOfThree(n-1)\n",
    "            \n",
    "            while n % 3 == 0:\n",
    "                n = n // 3\n",
    "                return self.checkPowersOfThree(n)\n",
    "                \n",
    "s = Solution()\n",
    "s.checkPowersOfThree(33)\n",
    "        "
   ]
  }
 ],
 "metadata": {
  "kernelspec": {
   "display_name": "base",
   "language": "python",
   "name": "python3"
  },
  "language_info": {
   "codemirror_mode": {
    "name": "ipython",
    "version": 3
   },
   "file_extension": ".py",
   "mimetype": "text/x-python",
   "name": "python",
   "nbconvert_exporter": "python",
   "pygments_lexer": "ipython3",
   "version": "3.12.3"
  }
 },
 "nbformat": 4,
 "nbformat_minor": 2
}
