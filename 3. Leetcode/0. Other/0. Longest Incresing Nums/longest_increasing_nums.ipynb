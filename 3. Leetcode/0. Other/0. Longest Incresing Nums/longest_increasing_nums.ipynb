{
 "cells": [
  {
   "cell_type": "code",
   "execution_count": null,
   "id": "9b5889e0",
   "metadata": {},
   "outputs": [
    {
     "data": {
      "text/plain": [
       "5"
      ]
     },
     "execution_count": 13,
     "metadata": {},
     "output_type": "execute_result"
    }
   ],
   "source": [
    "nums = [3,1,2,4,1,2,3,5,5,1,2,4,5,7,2,2]\n",
    "\n",
    "def longest_increasing(nums):\n",
    "    increase_flag = []\n",
    "    for i in range(len(nums)):\n",
    "        if i == 0:\n",
    "            increase_flag.append(0)\n",
    "        elif nums[i] > nums[i-1]:\n",
    "            increase_flag.append(1)\n",
    "        else:\n",
    "            increase_flag.append(0)\n",
    "    \n",
    "    cumcount = []\n",
    "    for i in range(len(increase_flag)):\n",
    "        if increase_flag[i] == 0:\n",
    "            cumcount.append(increase_flag[i])\n",
    "        else:\n",
    "            cumcount.append(cumcount[-1]+1)\n",
    "    \n",
    "    return max(cumcount) + 1\n",
    "    \n",
    "longest_increasing(nums)"
   ]
  },
  {
   "cell_type": "code",
   "execution_count": null,
   "id": "a247d0d5",
   "metadata": {},
   "outputs": [],
   "source": []
  }
 ],
 "metadata": {
  "kernelspec": {
   "display_name": "base",
   "language": "python",
   "name": "python3"
  },
  "language_info": {
   "codemirror_mode": {
    "name": "ipython",
    "version": 3
   },
   "file_extension": ".py",
   "mimetype": "text/x-python",
   "name": "python",
   "nbconvert_exporter": "python",
   "pygments_lexer": "ipython3",
   "version": "3.12.3"
  }
 },
 "nbformat": 4,
 "nbformat_minor": 5
}
