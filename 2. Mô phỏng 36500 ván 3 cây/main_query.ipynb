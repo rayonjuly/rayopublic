{
 "cells": [
  {
   "cell_type": "code",
   "execution_count": 3,
   "metadata": {},
   "outputs": [
    {
     "name": "stdout",
     "output_type": "stream",
     "text": [
      "Hand: 4A 5A 1A\n",
      "Value: 10\n"
     ]
    },
    {
     "ename": "AttributeError",
     "evalue": "'list' object has no attribute 'sum'",
     "output_type": "error",
     "traceback": [
      "\u001b[1;31m---------------------------------------------------------------------------\u001b[0m",
      "\u001b[1;31mAttributeError\u001b[0m                            Traceback (most recent call last)",
      "Cell \u001b[1;32mIn[3], line 22\u001b[0m\n\u001b[0;32m     18\u001b[0m \u001b[38;5;28mprint\u001b[39m(hand)\n\u001b[0;32m     20\u001b[0m \u001b[38;5;66;03m# print(f\"is_incremental ---> {hand.rank_is_incremental()}\")\u001b[39;00m\n\u001b[0;32m     21\u001b[0m \u001b[38;5;66;03m# print(f\"is_suit_unique --> {hand.suit_is_unique()}\")\u001b[39;00m\n\u001b[1;32m---> 22\u001b[0m \u001b[38;5;28mprint\u001b[39m(\u001b[38;5;124mf\u001b[39m\u001b[38;5;124m\"\u001b[39m\u001b[38;5;124mtype ---> \u001b[39m\u001b[38;5;132;01m{\u001b[39;00m\u001b[43mhand\u001b[49m\u001b[38;5;241;43m.\u001b[39;49m\u001b[43mget_type\u001b[49m\u001b[43m(\u001b[49m\u001b[43m)\u001b[49m\u001b[38;5;132;01m}\u001b[39;00m\u001b[38;5;124m\"\u001b[39m)\n\u001b[0;32m     24\u001b[0m \u001b[38;5;66;03m# (\u001b[39;00m\n\u001b[0;32m     25\u001b[0m \u001b[38;5;66;03m#     pd.Series(hand.get_rank_list()).nunique() == 3 \u001b[39;00m\n\u001b[0;32m     26\u001b[0m \u001b[38;5;66;03m#     and\u001b[39;00m\n\u001b[1;32m   (...)\u001b[0m\n\u001b[0;32m     30\u001b[0m \u001b[38;5;66;03m# pd.Series(hand.get_suit_list()).nunique()\u001b[39;00m\n\u001b[0;32m     31\u001b[0m \u001b[38;5;66;03m# print(hand.get_suit_list())\u001b[39;00m\n",
      "File \u001b[1;32md:\\MINHTL\\Tự học\\0. Data Skillset\\1. Python\\2. Mô phỏng 36500 ván 3 cây\\Bai_ba_cay.py:199\u001b[0m, in \u001b[0;36mHand.get_type\u001b[1;34m(self)\u001b[0m\n\u001b[0;32m    197\u001b[0m \u001b[38;5;28;01melif\u001b[39;00m \u001b[38;5;28mself\u001b[39m\u001b[38;5;241m.\u001b[39mrank_is_incremental() \u001b[38;5;241m==\u001b[39m \u001b[38;5;28;01mTrue\u001b[39;00m \u001b[38;5;129;01mand\u001b[39;00m \u001b[38;5;28mself\u001b[39m\u001b[38;5;241m.\u001b[39msuit_is_unique() \u001b[38;5;241m==\u001b[39m \u001b[38;5;28;01mTrue\u001b[39;00m:\n\u001b[0;32m    198\u001b[0m     \u001b[38;5;28;01mreturn\u001b[39;00m \u001b[38;5;124m'\u001b[39m\u001b[38;5;124mSáp\u001b[39m\u001b[38;5;124m'\u001b[39m\n\u001b[1;32m--> 199\u001b[0m \u001b[38;5;28;01melif\u001b[39;00m \u001b[38;5;28;43mself\u001b[39;49m\u001b[38;5;241;43m.\u001b[39;49m\u001b[43mget_rank_list\u001b[49m\u001b[43m(\u001b[49m\u001b[43m)\u001b[49m\u001b[38;5;241;43m.\u001b[39;49m\u001b[43msum\u001b[49m() \u001b[38;5;241m==\u001b[39m \u001b[38;5;241m10\u001b[39m:\n\u001b[0;32m    200\u001b[0m     \u001b[38;5;28;01mreturn\u001b[39;00m \u001b[38;5;124m'\u001b[39m\u001b[38;5;124m10\u001b[39m\u001b[38;5;124m'\u001b[39m\n\u001b[0;32m    201\u001b[0m \u001b[38;5;28;01melse\u001b[39;00m:\n",
      "\u001b[1;31mAttributeError\u001b[0m: 'list' object has no attribute 'sum'"
     ]
    }
   ],
   "source": [
    "from Bai_ba_cay import Card, Player, Match, Deck, Hand\n",
    "import numpy as np\n",
    "import pandas as pd\n",
    "\n",
    "hand = Hand(\n",
    "    Card(4,'A'),\n",
    "    Card(5,'A'),\n",
    "    Card(1,'A')\n",
    ")\n",
    "\n",
    "print(hand)\n",
    "\n",
    "# print(f\"is_incremental ---> {hand.rank_is_incremental()}\")\n",
    "# print(f\"is_suit_unique --> {hand.suit_is_unique()}\")\n",
    "print(f\"type ---> {hand.get_type()}\")\n",
    "\n",
    "# (\n",
    "#     pd.Series(hand.get_rank_list()).nunique() == 3 \n",
    "#     and\n",
    "#     (pd.Series(hand.get_rank_list()).max() - pd.Series(hand.get_rank_list()).min() == 2)\n",
    "# )\n",
    "\n",
    "# pd.Series(hand.get_suit_list()).nunique()\n",
    "# print(hand.get_suit_list())"
   ]
  },
  {
   "cell_type": "code",
   "execution_count": 5,
   "metadata": {},
   "outputs": [],
   "source": [
    "class Handtest():\n",
    "    deck = Deck().get_content()\n",
    "    \n",
    "    def __init__(self, card1: Card = None, card2: Card = None, card3: Card = None):\n",
    "        # self.__content = np.random.choice(self.__class__.deck, 3, replace = False).tolist()\n",
    "        \n",
    "        # # if card1 == None:\n",
    "            \n",
    "        # # Declare each card of the Hand\n",
    "        # self.__card1 = self.__content[0]\n",
    "        # self.__card2 = self.__content[1]\n",
    "        # self.__card3 = self.__content[2]\n",
    "        \n",
    "        kw_cards = [card1, card2, card3] # list all the cards declared in the paramaters\n",
    "        not_none_cards = [c for c in kw_cards if c != None] # list all the not-none cards declared in the  parameters\n",
    "        \n",
    "        # for c in kw_cards:\n",
    "        #     if c == None:\n",
    "        #         c = Card()\n",
    "        #         while not c.is_in(not_none_cards):\n",
    "        #             c = Card()\n",
    "                    \n",
    "        \n",
    "        # self.__card1 = card1\n",
    "        # self.__card2 = card2\n",
    "        # self.__card3 = card3\n",
    "        self.kw_cards = kw_cards\n",
    "        self.not_none_cards = not_none_cards"
   ]
  },
  {
   "cell_type": "code",
   "execution_count": 22,
   "metadata": {},
   "outputs": [
    {
     "name": "stdout",
     "output_type": "stream",
     "text": [
      "Hand: 1A 2A 3C\n",
      "Value: 6\n"
     ]
    },
    {
     "ename": "AttributeError",
     "evalue": "'Hand' object has no attribute '_Hand__content'",
     "output_type": "error",
     "traceback": [
      "\u001b[1;31m---------------------------------------------------------------------------\u001b[0m",
      "\u001b[1;31mAttributeError\u001b[0m                            Traceback (most recent call last)",
      "Cell \u001b[1;32mIn[22], line 4\u001b[0m\n\u001b[0;32m      1\u001b[0m hand \u001b[38;5;241m=\u001b[39m Hand(Card(\u001b[38;5;241m1\u001b[39m,\u001b[38;5;124m'\u001b[39m\u001b[38;5;124mA\u001b[39m\u001b[38;5;124m'\u001b[39m), Card(\u001b[38;5;241m2\u001b[39m, \u001b[38;5;124m'\u001b[39m\u001b[38;5;124mA\u001b[39m\u001b[38;5;124m'\u001b[39m), Card(\u001b[38;5;241m3\u001b[39m, \u001b[38;5;124m'\u001b[39m\u001b[38;5;124mC\u001b[39m\u001b[38;5;124m'\u001b[39m))\n\u001b[0;32m      3\u001b[0m \u001b[38;5;28mprint\u001b[39m(hand)\n\u001b[1;32m----> 4\u001b[0m \u001b[38;5;28mprint\u001b[39m(\u001b[38;5;124mf\u001b[39m\u001b[38;5;124m\"\u001b[39m\u001b[38;5;124mtype ---> \u001b[39m\u001b[38;5;132;01m{\u001b[39;00m\u001b[43mhand\u001b[49m\u001b[38;5;241;43m.\u001b[39;49m\u001b[43mget_type\u001b[49m\u001b[43m(\u001b[49m\u001b[43m)\u001b[49m\u001b[38;5;132;01m}\u001b[39;00m\u001b[38;5;124m\"\u001b[39m)\n",
      "File \u001b[1;32md:\\MINHTL\\Tự học\\0. Data Skillset\\1. Python\\2. Mô phỏng 36500 ván 3 cây\\Bai_ba_cay.py:201\u001b[0m, in \u001b[0;36mHand.get_type\u001b[1;34m(self)\u001b[0m\n\u001b[0;32m    200\u001b[0m \u001b[38;5;28;01mdef\u001b[39;00m \u001b[38;5;21mget_type\u001b[39m(\u001b[38;5;28mself\u001b[39m):\n\u001b[1;32m--> 201\u001b[0m     \u001b[38;5;28;01mif\u001b[39;00m \u001b[38;5;28;43mself\u001b[39;49m\u001b[38;5;241;43m.\u001b[39;49m\u001b[43mrank_is_unique\u001b[49m\u001b[43m(\u001b[49m\u001b[43m)\u001b[49m \u001b[38;5;241m==\u001b[39m \u001b[38;5;28;01mTrue\u001b[39;00m:\n\u001b[0;32m    202\u001b[0m         \u001b[38;5;28;01mreturn\u001b[39;00m \u001b[38;5;124m'\u001b[39m\u001b[38;5;124mTriplet\u001b[39m\u001b[38;5;124m'\u001b[39m\n\u001b[0;32m    203\u001b[0m     \u001b[38;5;28;01melif\u001b[39;00m \u001b[38;5;28mself\u001b[39m\u001b[38;5;241m.\u001b[39mrank_is_incremental() \u001b[38;5;241m==\u001b[39m \u001b[38;5;28;01mTrue\u001b[39;00m \u001b[38;5;129;01mand\u001b[39;00m \u001b[38;5;28mself\u001b[39m\u001b[38;5;241m.\u001b[39msuit_is_unique() \u001b[38;5;241m==\u001b[39m \u001b[38;5;28;01mTrue\u001b[39;00m:\n",
      "File \u001b[1;32md:\\MINHTL\\Tự học\\0. Data Skillset\\1. Python\\2. Mô phỏng 36500 ván 3 cây\\Bai_ba_cay.py:188\u001b[0m, in \u001b[0;36mHand.rank_is_unique\u001b[1;34m(self)\u001b[0m\n\u001b[0;32m    187\u001b[0m \u001b[38;5;28;01mdef\u001b[39;00m \u001b[38;5;21mrank_is_unique\u001b[39m(\u001b[38;5;28mself\u001b[39m):\n\u001b[1;32m--> 188\u001b[0m     \u001b[38;5;28;01mreturn\u001b[39;00m pd\u001b[38;5;241m.\u001b[39mSeries(\u001b[38;5;28;43mself\u001b[39;49m\u001b[38;5;241;43m.\u001b[39;49m\u001b[43mget_rank_list\u001b[49m\u001b[43m(\u001b[49m\u001b[43m)\u001b[49m)\u001b[38;5;241m.\u001b[39mnunique() \u001b[38;5;241m==\u001b[39m \u001b[38;5;241m1\u001b[39m\n",
      "File \u001b[1;32md:\\MINHTL\\Tự học\\0. Data Skillset\\1. Python\\2. Mô phỏng 36500 ván 3 cây\\Bai_ba_cay.py:177\u001b[0m, in \u001b[0;36mHand.get_rank_list\u001b[1;34m(self)\u001b[0m\n\u001b[0;32m    175\u001b[0m \u001b[38;5;28;01mdef\u001b[39;00m \u001b[38;5;21mget_rank_list\u001b[39m(\u001b[38;5;28mself\u001b[39m):\n\u001b[0;32m    176\u001b[0m     rank_list_of_hand \u001b[38;5;241m=\u001b[39m []\n\u001b[1;32m--> 177\u001b[0m     \u001b[38;5;28;01mfor\u001b[39;00m card \u001b[38;5;129;01min\u001b[39;00m \u001b[38;5;28;43mself\u001b[39;49m\u001b[38;5;241;43m.\u001b[39;49m\u001b[43m__content\u001b[49m:\n\u001b[0;32m    178\u001b[0m         rank_list_of_hand\u001b[38;5;241m.\u001b[39mappend(card\u001b[38;5;241m.\u001b[39mget_rank())\n\u001b[0;32m    179\u001b[0m     \u001b[38;5;28;01mreturn\u001b[39;00m rank_list_of_hand\n",
      "\u001b[1;31mAttributeError\u001b[0m: 'Hand' object has no attribute '_Hand__content'"
     ]
    }
   ],
   "source": [
    "hand = Hand(Card(1,'A'), Card(2, 'A'), Card(3, 'C'))\n",
    "\n",
    "print(hand)\n",
    "print(f\"type ---> {hand.get_type()}\")"
   ]
  },
  {
   "cell_type": "code",
   "execution_count": 4,
   "metadata": {},
   "outputs": [
    {
     "data": {
      "text/plain": [
       "3"
      ]
     },
     "execution_count": 4,
     "metadata": {},
     "output_type": "execute_result"
    }
   ],
   "source": [
    "sum([1,2])"
   ]
  }
 ],
 "metadata": {
  "kernelspec": {
   "display_name": "base",
   "language": "python",
   "name": "python3"
  },
  "language_info": {
   "codemirror_mode": {
    "name": "ipython",
    "version": 3
   },
   "file_extension": ".py",
   "mimetype": "text/x-python",
   "name": "python",
   "nbconvert_exporter": "python",
   "pygments_lexer": "ipython3",
   "version": "3.12.3"
  }
 },
 "nbformat": 4,
 "nbformat_minor": 2
}
