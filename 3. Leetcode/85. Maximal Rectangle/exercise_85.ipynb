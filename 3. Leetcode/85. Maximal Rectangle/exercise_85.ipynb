{
 "cells": [
  {
   "cell_type": "code",
   "execution_count": 1,
   "metadata": {},
   "outputs": [],
   "source": [
    "import pandas as pd\n",
    "import re\n",
    "from unidecode import unidecode\n",
    "import numpy as np \n",
    "import seaborn as sns\n",
    "import matplotlib.pyplot as plt \n",
    "# from sklearn.linear_model import LinearRegression\n",
    "# import statsmodels.api as sm"
   ]
  },
  {
   "cell_type": "code",
   "execution_count": 78,
   "metadata": {},
   "outputs": [
    {
     "data": {
      "text/plain": [
       "array([[1, 0, 1, 0, 0],\n",
       "       [1, 0, 1, 1, 1],\n",
       "       [1, 1, 1, 1, 1],\n",
       "       [1, 0, 0, 1, 0]])"
      ]
     },
     "execution_count": 78,
     "metadata": {},
     "output_type": "execute_result"
    }
   ],
   "source": [
    "arr = np.array([[\"1\",\"0\",\"1\",\"0\",\"0\"],[\"1\",\"0\",\"1\",\"1\",\"1\"],[\"1\",\"1\",\"1\",\"1\",\"1\"],[\"1\",\"0\",\"0\",\"1\",\"0\"]], dtype=int)\n",
    "\n",
    "# chieu_ngang = np.zeros(shape=arr.shape)\n",
    "# chieu_doc = np.zeros(shape=arr.shape)\n",
    "chieu_ngang = arr.copy()\n",
    "chieu_doc = arr.copy()\n",
    "\n",
    "arr"
   ]
  },
  {
   "cell_type": "code",
   "execution_count": 37,
   "metadata": {},
   "outputs": [
    {
     "data": {
      "text/plain": [
       "5"
      ]
     },
     "execution_count": 37,
     "metadata": {},
     "output_type": "execute_result"
    }
   ],
   "source": [
    "def max_1d_area(arr):\n",
    "    chieu_ngang = arr.copy()\n",
    "    chieu_doc = arr.copy()\n",
    "    for r in range(len(arr)):\n",
    "        for c in range(len(arr[0])-1):\n",
    "            if arr[r, c] == 1 and arr[r, c+1] == 1:\n",
    "                chieu_ngang[r, c+1] = chieu_ngang[r, c] + 1\n",
    "    \n",
    "    max_chieu_ngang = chieu_ngang.max()\n",
    "    \n",
    "    for c in range(len(arr[0])):\n",
    "        for r in range(len(arr)-1):\n",
    "            if arr[r, c] == 1 and arr[r+1, c] == 1:\n",
    "                chieu_doc[r+1, c] = chieu_doc[r, c] + 1\n",
    "                \n",
    "    max_chieu_doc = chieu_doc.max()\n",
    "\n",
    "    area = max(max_chieu_doc, max_chieu_ngang)\n",
    "    return(int(area))\n",
    "\n",
    "final_area = max_1d_area(arr)"
   ]
  },
  {
   "cell_type": "code",
   "execution_count": 81,
   "metadata": {},
   "outputs": [
    {
     "data": {
      "text/plain": [
       "2"
      ]
     },
     "execution_count": 81,
     "metadata": {},
     "output_type": "execute_result"
    }
   ],
   "source": [
    "def decrease_height_and_width(arr):\n",
    "    giam_chieu = np.zeros(shape=arr.shape)\n",
    "    \n",
    "    for r in range(len(arr)-1):\n",
    "        for c in range(len(arr[0])-1):\n",
    "            if arr[r,c] == 1 and arr[r+1, c] == 1 and arr[r, c+1] == 1 and arr[r+1, c+1] == 1:\n",
    "                giam_chieu[r,c] = 1\n",
    "                \n",
    "    return giam_chieu\n",
    "\n",
    "counter = 0\n",
    "new_arr = arr.copy()\n",
    "while not np.array_equal(new_arr, zero_matrix):\n",
    "    counter += 1\n",
    "    final_matrix_after_decrease = new_arr.copy()\n",
    "    new_arr = decrease_height_and_width(new_arr)\n",
    "    \n",
    "    \n",
    "counter\n",
    "max_1d_area(final_matrix_after_decrease)"
   ]
  },
  {
   "cell_type": "code",
   "execution_count": 61,
   "metadata": {},
   "outputs": [
    {
     "data": {
      "text/plain": [
       "True"
      ]
     },
     "execution_count": 61,
     "metadata": {},
     "output_type": "execute_result"
    }
   ],
   "source": [
    "result = decrease_height_and_width(decrease_height_and_width(arr))\n",
    "np.array_equal(result, zero_matrix)"
   ]
  },
  {
   "cell_type": "code",
   "execution_count": 66,
   "metadata": {},
   "outputs": [
    {
     "data": {
      "text/plain": [
       "array([[  1,   0,   1,   0,   0],\n",
       "       [  1, 100,   1,   1,   1],\n",
       "       [  1,   1,   1,   1,   1],\n",
       "       [  1,   0,   0,   1,   0]])"
      ]
     },
     "execution_count": 66,
     "metadata": {},
     "output_type": "execute_result"
    }
   ],
   "source": []
  },
  {
   "cell_type": "code",
   "execution_count": 110,
   "metadata": {},
   "outputs": [],
   "source": [
    "class Solution:\n",
    "    def max_1d_area(self, arr):\n",
    "        # Tính diện tích của rectangle 1d có diện tích lớn nhất:\n",
    "        chieu_ngang = arr.copy()\n",
    "        chieu_doc = arr.copy()\n",
    "        num_row = len(arr)\n",
    "        num_col = len(arr[0])\n",
    "        \n",
    "        # Scan theo chiều ngang của arr\n",
    "        for r in range(num_row):\n",
    "            for c in range(num_col - 1):\n",
    "                if arr[r, c] == 1 and arr[r, c+1] == 1:\n",
    "                    chieu_ngang[r, c+1] = chieu_ngang[r, c] + 1\n",
    "        \n",
    "        max_chieu_ngang = chieu_ngang.max()\n",
    "        \n",
    "        # Scan theo chiều dọc của arr\n",
    "        for c in range(num_col):\n",
    "            for r in range(num_row-1):\n",
    "                if arr[r, c] == 1 and arr[r+1, c] == 1:\n",
    "                    chieu_doc[r+1, c] = chieu_doc[r, c] + 1\n",
    "                    \n",
    "        max_chieu_doc = chieu_doc.max()\n",
    "\n",
    "        area = max(max_chieu_doc, max_chieu_ngang)\n",
    "        return(int(area))\n",
    "\n",
    "    def decrease_height_and_width(self, arr):\n",
    "        # Với các rectangle <> 1d ta sẽ giảm chiều dài, chiều rộng đến khi nào còn 1d\n",
    "        giam_chieu = np.zeros(shape=arr.shape)\n",
    "        \n",
    "        for r in range(len(arr)-1):\n",
    "            for c in range(len(arr[0])-1):\n",
    "                if arr[r,c] == 1 and arr[r+1, c] == 1 and arr[r, c+1] == 1 and arr[r+1, c+1] == 1:\n",
    "                    giam_chieu[r,c] = 1\n",
    "                    \n",
    "        return giam_chieu\n",
    "\n",
    "    def maximalRectangle(self, matrix) -> int:\n",
    "        arr = np.array(matrix, dtype = int)\n",
    "        zero_matrix = np.zeros(shape=arr.shape)\n",
    "        \n",
    "        if arr.sum() == 0:\n",
    "            return 0\n",
    "        \n",
    "        # Tính diện tích của rectangle 1d có diện tích lớn nhất:\n",
    "        final_area = self.max_1d_area(arr)\n",
    "        \n",
    "        # Với các rectangle <> 1d ta sẽ giảm chiều dài, chiều rộng đến khi nào còn 1d.\n",
    "        # Quá trình này return final_matrix_after_decrease\n",
    "        \n",
    "        counter = 0\n",
    "        new_arr = arr.copy()\n",
    "        while not np.array_equal(new_arr, zero_matrix):        \n",
    "            final_matrix_after_decrease = new_arr.copy()\n",
    "            new_arr = self.decrease_height_and_width(new_arr)\n",
    "            d1 = self.max_1d_area(new_arr)\n",
    "            area = (1 + counter)*(counter + d1)\n",
    "            if area > final_area:\n",
    "                final_area = area\n",
    "            counter += 1\n",
    "\n",
    "        # Tính diện tích của rectangle 1d có diện tích lớn nhất của final_matrix_after_decrease\n",
    "        d1 = self.max_1d_area(final_matrix_after_decrease)\n",
    "        \n",
    "        # Diện tích rectangle gốc của max_area_after_descrease:\n",
    "        original_area_before_descrease = counter*(counter - 1 + d1)\n",
    "        \n",
    "        return max(final_area, original_area_before_descrease)\n",
    "        "
   ]
  },
  {
   "cell_type": "code",
   "execution_count": 111,
   "metadata": {},
   "outputs": [
    {
     "data": {
      "text/plain": [
       "20"
      ]
     },
     "execution_count": 111,
     "metadata": {},
     "output_type": "execute_result"
    }
   ],
   "source": [
    "s = Solution()\n",
    "\n",
    "mat = [[\"1\",\"1\",\"1\",\"1\",\"1\",\"1\",\"1\",\"1\"],[\"1\",\"1\",\"1\",\"1\",\"1\",\"1\",\"1\",\"0\"],[\"1\",\"1\",\"1\",\"1\",\"1\",\"1\",\"1\",\"0\"],[\"1\",\"1\",\"1\",\"1\",\"1\",\"0\",\"0\",\"0\"],[\"0\",\"1\",\"1\",\"1\",\"1\",\"0\",\"0\",\"0\"]]\n",
    "arr =  np.array(mat, dtype=int)\n",
    "# s.maximalRectangle(mat)\n",
    "# decrease_height_and_width(decrease_height_and_width(decrease_height_and_width(arr)))\n",
    "s.maximalRectangle(mat)"
   ]
  },
  {
   "cell_type": "code",
   "execution_count": null,
   "metadata": {},
   "outputs": [],
   "source": [
    "def max_1d_area(arr):\n",
    "    chieu_ngang = arr.copy()\n",
    "    chieu_doc = arr.copy()\n",
    "    num_row = len(arr)\n",
    "    num_col = len(arr[0])\n",
    "    \n",
    "    for r in range(num_row):\n",
    "        for c in range(num_col - 1):\n",
    "            if arr[r, c] == 1 and arr[r, c+1] == 1:\n",
    "                chieu_ngang[r, c+1] = chieu_ngang[r, c] + 1\n",
    "    \n",
    "    max_chieu_ngang = chieu_ngang.max()\n",
    "    \n",
    "    for c in range(num_col):\n",
    "        for r in range(num_row-1):\n",
    "            if arr[r, c] == 1 and arr[r+1, c] == 1:\n",
    "                chieu_doc[r+1, c] = chieu_doc[r, c] + 1\n",
    "                \n",
    "    max_chieu_doc = chieu_doc.max()\n",
    "\n",
    "    area = max(max_chieu_doc, max_chieu_ngang)\n",
    "    return(int(area))\n",
    "\n",
    "def decrease_height_and_width(arr):\n",
    "    # Với các rectangle <> 1d ta sẽ giảm chiều dài, chiều rộng đến khi nào còn 1d\n",
    "    giam_chieu = np.zeros(shape=arr.shape)\n",
    "    \n",
    "    for r in range(len(arr)-1):\n",
    "        for c in range(len(arr[0])-1):\n",
    "            if arr[r,c] == 1 and arr[r+1, c] == 1 and arr[r, c+1] == 1 and arr[r+1, c+1] == 1:\n",
    "                giam_chieu[r,c] = 1\n",
    "                \n",
    "    return giam_chieu\n",
    "\n",
    "def maximalRectangle(self, matrix) -> int:\n",
    "    arr = np.array(matrix, dtype = int)\n",
    "    zero_matrix = np.zeros(shape=arr.shape)\n",
    "    \n",
    "    # Tính diện tích của rectangle 1d có diện tích lớn nhất:\n",
    "    max_1d = max_1d_area(arr)\n",
    "    \n",
    "    # Với các rectangle <> 1d ta sẽ giảm chiều dài, chiều rộng đến khi nào còn 1d.\n",
    "    # Quá trình này return final_matrix_after_decrease\n",
    "    \n",
    "    counter = 0\n",
    "    new_arr = arr.copy()\n",
    "    while not np.array_equal(new_arr, zero_matrix):        \n",
    "        final_matrix_after_decrease = new_arr.copy()\n",
    "        new_arr = decrease_height_and_width(new_arr)\n",
    "        counter += 1\n",
    "\n",
    "    # Tính diện tích của rectangle 1d có diện tích lớn nhất của final_matrix_after_decrease\n",
    "    max_area_after_descrease = max_1d_area(final_matrix_after_decrease)\n",
    "    \n",
    "    # Diện tích rectangle gốc của max_area_after_descrease:\n",
    "    original_area_before_descrease = counter*(counter - 1 + max_area_after_descrease)\n",
    "    \n",
    "    return max(max_1d, original_area_before_descrease)"
   ]
  },
  {
   "cell_type": "code",
   "execution_count": 83,
   "metadata": {},
   "outputs": [
    {
     "data": {
      "text/plain": [
       "6"
      ]
     },
     "execution_count": 83,
     "metadata": {},
     "output_type": "execute_result"
    }
   ],
   "source": [
    "maximalRectangle(mat)"
   ]
  }
 ],
 "metadata": {
  "kernelspec": {
   "display_name": "Python 3",
   "language": "python",
   "name": "python3"
  },
  "language_info": {
   "codemirror_mode": {
    "name": "ipython",
    "version": 3
   },
   "file_extension": ".py",
   "mimetype": "text/x-python",
   "name": "python",
   "nbconvert_exporter": "python",
   "pygments_lexer": "ipython3",
   "version": "3.9.13"
  }
 },
 "nbformat": 4,
 "nbformat_minor": 2
}
