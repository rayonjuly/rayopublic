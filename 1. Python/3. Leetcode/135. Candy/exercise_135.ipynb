{
 "cells": [
  {
   "cell_type": "code",
   "execution_count": 4,
   "metadata": {},
   "outputs": [],
   "source": [
    "import pandas as pd\n",
    "import re\n",
    "from unidecode import unidecode\n",
    "import numpy as np \n",
    "import seaborn as sns\n",
    "import matplotlib.pyplot as plt "
   ]
  },
  {
   "cell_type": "code",
   "execution_count": 62,
   "metadata": {},
   "outputs": [
    {
     "ename": "IndexError",
     "evalue": "list index out of range",
     "output_type": "error",
     "traceback": [
      "\u001b[1;31m---------------------------------------------------------------------------\u001b[0m",
      "\u001b[1;31mIndexError\u001b[0m                                Traceback (most recent call last)",
      "Cell \u001b[1;32mIn[62], line 17\u001b[0m\n\u001b[0;32m     15\u001b[0m     \u001b[38;5;28;01melif\u001b[39;00m i \u001b[38;5;241m==\u001b[39m \u001b[38;5;28mlen\u001b[39m(arr)\u001b[38;5;241m-\u001b[39m\u001b[38;5;241m1\u001b[39m \u001b[38;5;129;01mand\u001b[39;00m arr[i] \u001b[38;5;241m<\u001b[39m arr[i\u001b[38;5;241m-\u001b[39m\u001b[38;5;241m1\u001b[39m]:\n\u001b[0;32m     16\u001b[0m         pos[i] \u001b[38;5;241m=\u001b[39m \u001b[38;5;241m1\u001b[39m\n\u001b[1;32m---> 17\u001b[0m     \u001b[38;5;28;01melif\u001b[39;00m arr[i] \u001b[38;5;241m<\u001b[39m\u001b[38;5;241m=\u001b[39m arr[i\u001b[38;5;241m-\u001b[39m\u001b[38;5;241m1\u001b[39m] \u001b[38;5;129;01mand\u001b[39;00m arr[i] \u001b[38;5;241m<\u001b[39m\u001b[38;5;241m=\u001b[39m \u001b[43marr\u001b[49m\u001b[43m[\u001b[49m\u001b[43mi\u001b[49m\u001b[38;5;241;43m+\u001b[39;49m\u001b[38;5;241;43m1\u001b[39;49m\u001b[43m]\u001b[49m:\n\u001b[0;32m     18\u001b[0m         pos[i] \u001b[38;5;241m=\u001b[39m \u001b[38;5;241m1\u001b[39m\n\u001b[0;32m     20\u001b[0m remain \u001b[38;5;241m=\u001b[39m [i \u001b[38;5;28;01mfor\u001b[39;00m i \u001b[38;5;129;01min\u001b[39;00m \u001b[38;5;28mrange\u001b[39m(\u001b[38;5;28mlen\u001b[39m(arr)) \u001b[38;5;28;01mif\u001b[39;00m i \u001b[38;5;129;01mnot\u001b[39;00m \u001b[38;5;129;01min\u001b[39;00m \u001b[38;5;28mlist\u001b[39m(pos\u001b[38;5;241m.\u001b[39mkeys())]\n",
      "\u001b[1;31mIndexError\u001b[0m: list index out of range"
     ]
    },
    {
     "data": {
      "image/png": "[encoded data removed]",
      "text/plain": [
       "<Figure size 1400x500 with 1 Axes>"
      ]
     },
     "metadata": {},
     "output_type": "display_data"
    }
   ],
   "source": [
    "np.random.seed(13)\n",
    "arr = np.random.randint(0, 10, 30)\n",
    "\n",
    "fig, ax = plt.subplots(figsize=(14, 5))\n",
    "barplot = sns.barplot(arr)\n",
    "\n",
    "arr = [1,2,2]\n",
    "arr = list(arr)\n",
    "\n",
    "pos = {}\n",
    "\n",
    "for i in range(len(arr)):\n",
    "    if i == 0 and arr[0] < arr[1]:\n",
    "        pos[0] = 1\n",
    "    elif i == len(arr)-1 and arr[i] < arr[i-1]:\n",
    "        pos[i] = 1\n",
    "    elif arr[i] <= arr[i-1] and arr[i] <= arr[i+1]:\n",
    "        pos[i] = 1\n",
    "\n",
    "remain = [i for i in range(len(arr)) if i not in list(pos.keys())]\n",
    "print(remain)\n",
    "# for i in [i for i in range(len(arr)-1) if i not in list(pos.keys()) if i > list(pos.keys())[0]]:\n",
    "for i in remain:\n",
    "    if i+1 < len(arr) and arr[i+1] >= arr[i] >= arr[i-1]:\n",
    "        pos[i] = pos[i-1] + 1\n",
    "    # if i+2 < len(arr) and arr[i] > arr[i-1] and arr[i] >= arr[i+1]:\n",
    "    #     pos[i] = pos[i-1] + 1\n",
    "    \n",
    "\n",
    "remain = [i for i in range(len(arr)-1) if i not in list(pos.keys())]\n",
    "for i in sorted(remain, reverse=True):\n",
    "    if arr[i-1] >= arr[i] >= arr[i+1]:\n",
    "        pos[i] = pos[i+1] + 1\n",
    "\n",
    "remain = [i for i in range(len(arr)) if i not in list(pos.keys())]\n",
    "for i in remain:\n",
    "    if i == 0:\n",
    "        pos[i] = pos[i+1] + 1\n",
    "    elif i == len(arr)-1:\n",
    "        pos[i] = pos[i-1] + 1\n",
    "    else:\n",
    "        pos[i] = max(pos[i-1], pos[i+1]) + 1\n",
    "        \n",
    "\n",
    "    \n",
    "for idx, p in enumerate(barplot.patches):\n",
    "    if idx in pos:  # Only add text if the index exists in value_dict\n",
    "        ax.text(\n",
    "            p.get_x() + p.get_width() / 2,  # X position (center of bar)\n",
    "            p.get_height(),  # Y position (top of bar)\n",
    "            str(pos[idx]),  # Text (value from dictionary)\n",
    "            ha='center', va='bottom', fontsize=12, color='black'\n",
    "        )"
   ]
  },
  {
   "cell_type": "code",
   "execution_count": 57,
   "metadata": {},
   "outputs": [
    {
     "data": {
      "text/plain": [
       "61"
      ]
     },
     "execution_count": 57,
     "metadata": {},
     "output_type": "execute_result"
    }
   ],
   "source": [
    "sum(list(pos.values()))"
   ]
  },
  {
   "cell_type": "code",
   "execution_count": 19,
   "metadata": {},
   "outputs": [
    {
     "data": {
      "text/plain": [
       "{2: 1,\n",
       " 3: 2,\n",
       " 5: 1,\n",
       " 6: 2,\n",
       " 7: 3,\n",
       " 9: 1,\n",
       " 14: 1,\n",
       " 15: 2,\n",
       " 16: 3,\n",
       " 18: 1,\n",
       " 21: 1,\n",
       " 22: 2,\n",
       " 25: 1,\n",
       " 27: 1,\n",
       " 29: 1}"
      ]
     },
     "execution_count": 19,
     "metadata": {},
     "output_type": "execute_result"
    }
   ],
   "source": [
    "dict(sorted(pos.items(), key=lambda x: x[0]))"
   ]
  }
 ],
 "metadata": {
  "kernelspec": {
   "display_name": "Python 3",
   "language": "python",
   "name": "python3"
  },
  "language_info": {
   "codemirror_mode": {
    "name": "ipython",
    "version": 3
   },
   "file_extension": ".py",
   "mimetype": "text/x-python",
   "name": "python",
   "nbconvert_exporter": "python",
   "pygments_lexer": "ipython3",
   "version": "3.9.13"
  }
 },
 "nbformat": 4,
 "nbformat_minor": 2
}
